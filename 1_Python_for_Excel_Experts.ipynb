{
 "cells": [
  {
   "cell_type": "markdown",
   "metadata": {},
   "source": [
    "# Introduction to Python for Excel Experts"
   ]
  },
  {
   "cell_type": "markdown",
   "metadata": {},
   "source": [
    "## Comments\n",
    "Comments allow us to explain what code is doing, when it isn't clear. \n",
    "\n",
    "Just write a # sign. Everything on the same line after the # will be ignored when the code is run."
   ]
  },
  {
   "cell_type": "code",
   "execution_count": 121,
   "metadata": {},
   "outputs": [
    {
     "name": "stdout",
     "output_type": "stream",
     "text": [
      "3\n"
     ]
    }
   ],
   "source": [
    "# This is a comment\n",
    "print(1 + 2) # This is a comment on the same line as some code"
   ]
  },
  {
   "cell_type": "markdown",
   "metadata": {},
   "source": [
    "### Add new functionality with libraries\n",
    "Python allows us to add new functions by importing external libraries."
   ]
  },
  {
   "cell_type": "code",
   "execution_count": 125,
   "metadata": {},
   "outputs": [],
   "source": [
    "import pandas as pd     # Pandas lets us work easily with numbers and tables\n",
    "\n",
    "import xlrd     # for importing and exporting Excel files\n",
    "\n",
    "import matplotlib   # for creating graphs"
   ]
  },
  {
   "cell_type": "markdown",
   "metadata": {},
   "source": [
    "## Using variables\n",
    "\n",
    "In Python, using variables is simple, (unlike VBA) there is no need to define them at the start of the code, and no need to set the data type.\n",
    "\n",
    "Just write something like this:\n",
    "\n",
    "```python\n",
    "top_speed_kmh = 75\n",
    "```\n",
    "All you need is:\n",
    "1. a meaningful name for your variable:  __top_speed_kmh__\n",
    "2. an equals sign: __=__ \n",
    "3. what you want to store in the variable (a number or text): __75__"
   ]
  },
  {
   "cell_type": "code",
   "execution_count": 1,
   "metadata": {},
   "outputs": [],
   "source": [
    "# How to store a number in a variable\n",
    "top_speed_kmh = 32.7 \n",
    "\n",
    "# Text works the same way, just put a quotation mark before and after\n",
    "car_brand = \"Ford\""
   ]
  },
  {
   "cell_type": "markdown",
   "metadata": {},
   "source": [
    "## Working with text \n",
    "Pieces of text are called strings.\n",
    "Strings are written with apostrophes or quotation marks:\n",
    "\n",
    "```'This is a string'```  \n",
    "```\"This is also a string\"```"
   ]
  },
  {
   "cell_type": "markdown",
   "metadata": {},
   "source": [
    "## Output to the screen with print()"
   ]
  },
  {
   "cell_type": "markdown",
   "metadata": {},
   "source": [
    "To output to the screen, use ```print()```  \n",
    "\n",
    "Either with a text string directly:"
   ]
  },
  {
   "cell_type": "code",
   "execution_count": 2,
   "metadata": {},
   "outputs": [
    {
     "name": "stdout",
     "output_type": "stream",
     "text": [
      "Welcome to the world of Python programming!\n"
     ]
    }
   ],
   "source": [
    "print(\"Welcome to the world of Python programming!\")"
   ]
  },
  {
   "cell_type": "markdown",
   "metadata": {},
   "source": [
    "Or with a variable name, to see what is stored in that variable:"
   ]
  },
  {
   "cell_type": "code",
   "execution_count": 3,
   "metadata": {},
   "outputs": [
    {
     "name": "stdout",
     "output_type": "stream",
     "text": [
      "Ford\n"
     ]
    }
   ],
   "source": [
    "print(car_brand)"
   ]
  },
  {
   "cell_type": "markdown",
   "metadata": {},
   "source": [
    "Or both:"
   ]
  },
  {
   "cell_type": "code",
   "execution_count": null,
   "metadata": {},
   "outputs": [],
   "source": [
    "print(car_brand + \" is a car brand\")"
   ]
  },
  {
   "cell_type": "markdown",
   "metadata": {},
   "source": [
    "### Joining text together (Excel: CONCAT, VERKETTEN)\n",
    "To concatenate text in Excel you would use something like ``` =CONCAT(A2;\" \";B2) ```\n",
    "\n",
    "In Python you just use + signs between strings"
   ]
  },
  {
   "cell_type": "code",
   "execution_count": null,
   "metadata": {},
   "outputs": [],
   "source": [
    "car_brand = \"Ford\"\n",
    "car_model = \"Model T\"\n",
    "\n",
    "full_car_name = car_brand + \" \" + car_model\n",
    "\n",
    "print(full_car_name)"
   ]
  },
  {
   "cell_type": "markdown",
   "metadata": {},
   "source": [
    "To include numbers, convert them into strings using the str() function:  \n",
    "\n",
    "for example\n",
    "```str(top_speed_kmh)```"
   ]
  },
  {
   "cell_type": "code",
   "execution_count": null,
   "metadata": {},
   "outputs": [],
   "source": [
    "top_speed_text = \"The \" + car_model + \" has a top speed of \" + str(top_speed_kmh) + \" km/h\"\n",
    "\n",
    "print(top_speed_text)"
   ]
  },
  {
   "cell_type": "markdown",
   "metadata": {},
   "source": [
    "## Mathematical functions\n",
    "\n",
    "Just like in Excel, basic mathematics uses these symbols: + - / * "
   ]
  },
  {
   "cell_type": "code",
   "execution_count": 4,
   "metadata": {},
   "outputs": [
    {
     "name": "stdout",
     "output_type": "stream",
     "text": [
      "12\n"
     ]
    }
   ],
   "source": [
    "print(10 + 2)"
   ]
  },
  {
   "cell_type": "code",
   "execution_count": null,
   "metadata": {},
   "outputs": [],
   "source": [
    "start_position = 12.1\n",
    "end_position = 22\n",
    "time = 51\n",
    "\n",
    "# speed = distance / time\n",
    "speed = (end_position - start_position) / time\n",
    "\n",
    "print(speed)"
   ]
  },
  {
   "cell_type": "markdown",
   "metadata": {},
   "source": [
    "Powers are slightly different to Excel.\n",
    "\n",
    "In Python we use ```**``` for powers, so 5² is 5**2\n",
    "\n",
    "*(Careful: 5^2 will still give a result in Python, but the wrong result!)*"
   ]
  },
  {
   "cell_type": "code",
   "execution_count": 7,
   "metadata": {},
   "outputs": [
    {
     "name": "stdout",
     "output_type": "stream",
     "text": [
      "7\n"
     ]
    }
   ],
   "source": [
    "# this gives a surprising result\n",
    "print(5^2)"
   ]
  },
  {
   "cell_type": "code",
   "execution_count": 8,
   "metadata": {},
   "outputs": [
    {
     "name": "stdout",
     "output_type": "stream",
     "text": [
      "25\n"
     ]
    }
   ],
   "source": [
    "# Calculating the area of a square\n",
    "\n",
    "width = 5 \n",
    "\n",
    "area = width**2\n",
    "\n",
    "print(area)"
   ]
  },
  {
   "cell_type": "markdown",
   "metadata": {},
   "source": [
    "### Rounding numbers"
   ]
  },
  {
   "cell_type": "markdown",
   "metadata": {},
   "source": [
    "Round \n",
    "Rounding with round() in Python rounds towards the nearest even number "
   ]
  },
  {
   "cell_type": "code",
   "execution_count": 10,
   "metadata": {},
   "outputs": [
    {
     "name": "stdout",
     "output_type": "stream",
     "text": [
      "2\n"
     ]
    }
   ],
   "source": [
    "print(round(2.5))"
   ]
  },
  {
   "cell_type": "code",
   "execution_count": 11,
   "metadata": {},
   "outputs": [
    {
     "name": "stdout",
     "output_type": "stream",
     "text": [
      "2\n"
     ]
    }
   ],
   "source": [
    "print(round(1.5))"
   ]
  },
  {
   "cell_type": "code",
   "execution_count": 12,
   "metadata": {},
   "outputs": [
    {
     "name": "stdout",
     "output_type": "stream",
     "text": [
      "0\n"
     ]
    }
   ],
   "source": [
    "print(round(0.5))"
   ]
  },
  {
   "cell_type": "code",
   "execution_count": 9,
   "metadata": {},
   "outputs": [
    {
     "name": "stdout",
     "output_type": "stream",
     "text": [
      "2.665\n",
      "2.68\n",
      "2.7\n"
     ]
    }
   ],
   "source": [
    "\n",
    "\n",
    "# To 3 decimal places\n",
    "print(round(2.665, 3))\n",
    " \n",
    "# when the (ndigit+1)th digit is >=5\n",
    "print(round(2.676, 2))\n",
    " \n",
    "# when the (ndigit+1)th digit is <5\n",
    "print(round(2.673, 1))"
   ]
  },
  {
   "cell_type": "markdown",
   "metadata": {},
   "source": [
    "#### Ceiling, floor"
   ]
  },
  {
   "cell_type": "code",
   "execution_count": 139,
   "metadata": {},
   "outputs": [
    {
     "data": {
      "text/plain": [
       "0"
      ]
     },
     "execution_count": 139,
     "metadata": {},
     "output_type": "execute_result"
    }
   ],
   "source": [
    "import math\n",
    "\n",
    "math.ceil(-0.5)"
   ]
  },
  {
   "cell_type": "markdown",
   "metadata": {},
   "source": [
    "### If statements (Excel: IF, WENN)\n",
    "\n",
    "In Excel, we have:  \n",
    "```\n",
    "=IF((test); (result if true); (result if false))\n",
    "```\n",
    "```\n",
    "=IF(A1 < 50; \"Slow\"; \"Fast\")\n",
    "```\n",
    "\n",
    "In Python we have:\n",
    "\n",
    "```\n",
    "if (test):\n",
    "    (result if true)\n",
    "else:\n",
    "    (result if false)\n",
    "```\n",
    "\n",
    "For example:"
   ]
  },
  {
   "cell_type": "code",
   "execution_count": null,
   "metadata": {
    "ExecuteTime": {
     "end_time": "2020-02-03T14:44:59.606574Z",
     "start_time": "2020-02-03T14:44:55.768037Z"
    },
    "scrolled": true
   },
   "outputs": [],
   "source": [
    "if top_speed_kmh < 50:\n",
    "    slow_or_fast = \"Slow\"\n",
    "else:\n",
    "    slow_or_fast = \"Fast\"\n",
    "\n",
    "print(slow_or_fast)"
   ]
  },
  {
   "cell_type": "markdown",
   "metadata": {},
   "source": [
    "### Symbols used for logical comparisons\n",
    "\n",
    "| Comparison            | Excel | Python |                                                  |\n",
    "|-----------------------|-------|--------|--------------------------------------------------|\n",
    "| equal to              | =     | ==     | The single = sign is used for setting variables |\n",
    "| not equal to          | <>    | !=     | <> also works in Python                          |\n",
    "| less than             | <     | <      |                                                  |\n",
    "| less than or equal to | <=    | <=     |                                                  |\n",
    "| greater than             | >     | <      |                                                  |\n",
    "| greater than or equal to | >=    | >=     |                                                  |\n",
    "  \n",
    "You can combine multiple conditions using:\n",
    "\n",
    "```and```  \n",
    "```or```   \n",
    "```not``` "
   ]
  },
  {
   "cell_type": "markdown",
   "metadata": {},
   "source": [
    "Here is another if statement, using multiple conditions this time:"
   ]
  },
  {
   "cell_type": "code",
   "execution_count": null,
   "metadata": {},
   "outputs": [],
   "source": [
    "country = \"DE\"\n",
    "age = 18\n",
    "\n",
    "if (country == \"US\" and age>=21) or (country != \"US\" and age >= 18):\n",
    "    print(\"This person can legally drink alcohol!\")\n",
    "else:\n",
    "    print(\"You are either too young or in the wrong country!\")"
   ]
  },
  {
   "cell_type": "markdown",
   "metadata": {},
   "source": [
    "\n",
    "### Elif: say goodbye to nested \"if\" statements\n",
    "\n",
    "elif means \"else if\", and is like using multiple if statements.\n",
    "\n",
    "Maybe you know the horror of managing multiple nested IF statements in Excel: \n",
    "Here we test the top speed of a car to put it in a speed category.\n",
    "\n",
    "```=IF(A1 <= 0; \"not a car\";IF(A1 < 50; \"slow\"; IF(A1 <= 100; \"medium\"; IF(A1 > 100; \"fast\"; \"\"))))```\n",
    "\n",
    "Here is something similar in Python:"
   ]
  },
  {
   "cell_type": "code",
   "execution_count": null,
   "metadata": {},
   "outputs": [],
   "source": [
    "# When you run this code, an input box will appear on your screen\n",
    "\n",
    "car_speed = int(input('Enter the speed of a car in km/h: ')) \n",
    "\n",
    "if car_speed < 0:\n",
    "    print('So, this car can only travel backwards?')\n",
    "elif car_speed == 0:\n",
    "    print('So, this car does not move? Maybe it is not a car.')\n",
    "elif car_speed >= 100:\n",
    "    print('Fast')\n",
    "elif car_speed >= 50:\n",
    "    print('Medium')\n",
    "else:\n",
    "    print('Slow')"
   ]
  },
  {
   "cell_type": "markdown",
   "metadata": {},
   "source": [
    "# Working with tables of data\n",
    "\n",
    "In Excel, you often create a formula and then clone it to each cell going down the table.\n",
    "\n",
    "In Python, the Pandas library lets you make changes to entire columns of data with just one line of code.\n",
    "\n",
    "This lets us work with large data sets in a practical way, as manual editing is avoided. We can use Python to combine, transform, filter and summarize data, and then still have the option of saving the final transformed data as an Excel file.\n",
    "\n",
    "- XLS sheets are limited to 65536 rows, 256 columns (not enough rows for many uses)\n",
    "- XLSX sheets are limited to around 1 million rows and 16,000 columns (navigate around your sheet until the end of time!)  \n",
    "- Pandas DataFrames (tables) have no size limit, just the amount of memory in your computer."
   ]
  },
  {
   "cell_type": "markdown",
   "metadata": {},
   "source": [
    "## Loading Data from an Excel File\n",
    "\n",
    "We will now look at importing data from an Excel file, and later on we will modify it and then save it into a new Excel file."
   ]
  },
  {
   "cell_type": "code",
   "execution_count": 15,
   "metadata": {},
   "outputs": [],
   "source": [
    "# Import the Pandas library, a Python package which simplifies data analysis and transformation\n",
    "import pandas as pd"
   ]
  },
  {
   "cell_type": "code",
   "execution_count": null,
   "metadata": {},
   "outputs": [],
   "source": [
    "# Floats (decimal numbers) can be displayed rounded with 2 decimal places (this does not modify the data itself)\n",
    "pd.options.display.float_format = \"{:,.2f}\".format"
   ]
  },
  {
   "cell_type": "code",
   "execution_count": 17,
   "metadata": {},
   "outputs": [],
   "source": [
    "# Import your data to a DataFrame format\n",
    "superstore = pd.read_excel(\"data/Sample - Superstore.xls\")"
   ]
  },
  {
   "cell_type": "markdown",
   "metadata": {},
   "source": [
    "### Our table of data is stored in special type of variable called a 'DataFrame'\n",
    "\n",
    "Because our data came from a retail chain called Superstore, we have used the variable name \"superstore\" for the dataframe.\n",
    "\n",
    "By writing the name of the dataframe and dot, e.g. ```superstore.```\n",
    "followed by various different keywords. e.g. ```head()```  \n",
    "we can:\n",
    "- get information about our data\n",
    "- perform actions on our data"
   ]
  },
  {
   "cell_type": "markdown",
   "metadata": {},
   "source": [
    "### Taking a look at a few rows - .head()"
   ]
  },
  {
   "cell_type": "code",
   "execution_count": 107,
   "metadata": {},
   "outputs": [
    {
     "data": {
      "text/html": [
       "<div>\n",
       "<style scoped>\n",
       "    .dataframe tbody tr th:only-of-type {\n",
       "        vertical-align: middle;\n",
       "    }\n",
       "\n",
       "    .dataframe tbody tr th {\n",
       "        vertical-align: top;\n",
       "    }\n",
       "\n",
       "    .dataframe thead th {\n",
       "        text-align: right;\n",
       "    }\n",
       "</style>\n",
       "<table border=\"1\" class=\"dataframe\">\n",
       "  <thead>\n",
       "    <tr style=\"text-align: right;\">\n",
       "      <th></th>\n",
       "      <th>Row ID</th>\n",
       "      <th>Order ID</th>\n",
       "      <th>Order Date</th>\n",
       "      <th>Customer ID</th>\n",
       "      <th>Customer Name</th>\n",
       "      <th>Segment</th>\n",
       "      <th>Country/Region</th>\n",
       "      <th>City</th>\n",
       "      <th>State</th>\n",
       "      <th>Postal Code</th>\n",
       "      <th>Region</th>\n",
       "      <th>Product ID</th>\n",
       "      <th>Category</th>\n",
       "      <th>Sub-Category</th>\n",
       "      <th>Product Name</th>\n",
       "      <th>Sales</th>\n",
       "      <th>Quantity</th>\n",
       "      <th>Discount</th>\n",
       "      <th>Profit</th>\n",
       "    </tr>\n",
       "  </thead>\n",
       "  <tbody>\n",
       "    <tr>\n",
       "      <th>0</th>\n",
       "      <td>1</td>\n",
       "      <td>CA-2020-152156</td>\n",
       "      <td>2020-11-08</td>\n",
       "      <td>CG-12520</td>\n",
       "      <td>Claire Gute</td>\n",
       "      <td>Consumer</td>\n",
       "      <td>United States</td>\n",
       "      <td>Henderson</td>\n",
       "      <td>Kentucky</td>\n",
       "      <td>42420.0</td>\n",
       "      <td>South</td>\n",
       "      <td>FUR-BO-10001798</td>\n",
       "      <td>Furniture</td>\n",
       "      <td>Bookcases</td>\n",
       "      <td>Bush Somerset Collection Bookcase</td>\n",
       "      <td>261.96</td>\n",
       "      <td>2</td>\n",
       "      <td>0.0</td>\n",
       "      <td>41.9136</td>\n",
       "    </tr>\n",
       "    <tr>\n",
       "      <th>1</th>\n",
       "      <td>2</td>\n",
       "      <td>CA-2020-152156</td>\n",
       "      <td>2020-11-08</td>\n",
       "      <td>CG-12520</td>\n",
       "      <td>Claire Gute</td>\n",
       "      <td>Consumer</td>\n",
       "      <td>United States</td>\n",
       "      <td>Henderson</td>\n",
       "      <td>Kentucky</td>\n",
       "      <td>42420.0</td>\n",
       "      <td>South</td>\n",
       "      <td>FUR-CH-10000454</td>\n",
       "      <td>Furniture</td>\n",
       "      <td>Chairs</td>\n",
       "      <td>Hon Deluxe Fabric Upholstered Stacking Chairs,...</td>\n",
       "      <td>731.94</td>\n",
       "      <td>3</td>\n",
       "      <td>0.0</td>\n",
       "      <td>219.5820</td>\n",
       "    </tr>\n",
       "    <tr>\n",
       "      <th>2</th>\n",
       "      <td>3</td>\n",
       "      <td>CA-2020-138688</td>\n",
       "      <td>2020-06-12</td>\n",
       "      <td>DV-13045</td>\n",
       "      <td>Darrin Van Huff</td>\n",
       "      <td>Corporate</td>\n",
       "      <td>United States</td>\n",
       "      <td>Los Angeles</td>\n",
       "      <td>California</td>\n",
       "      <td>90036.0</td>\n",
       "      <td>West</td>\n",
       "      <td>OFF-LA-10000240</td>\n",
       "      <td>Office Supplies</td>\n",
       "      <td>Labels</td>\n",
       "      <td>Self-Adhesive Address Labels for Typewriters b...</td>\n",
       "      <td>14.62</td>\n",
       "      <td>2</td>\n",
       "      <td>0.0</td>\n",
       "      <td>6.8714</td>\n",
       "    </tr>\n",
       "  </tbody>\n",
       "</table>\n",
       "</div>"
      ],
      "text/plain": [
       "   Row ID        Order ID Order Date Customer ID    Customer Name    Segment  \\\n",
       "0       1  CA-2020-152156 2020-11-08    CG-12520      Claire Gute   Consumer   \n",
       "1       2  CA-2020-152156 2020-11-08    CG-12520      Claire Gute   Consumer   \n",
       "2       3  CA-2020-138688 2020-06-12    DV-13045  Darrin Van Huff  Corporate   \n",
       "\n",
       "  Country/Region         City       State  Postal Code Region  \\\n",
       "0  United States    Henderson    Kentucky      42420.0  South   \n",
       "1  United States    Henderson    Kentucky      42420.0  South   \n",
       "2  United States  Los Angeles  California      90036.0   West   \n",
       "\n",
       "        Product ID         Category Sub-Category  \\\n",
       "0  FUR-BO-10001798        Furniture    Bookcases   \n",
       "1  FUR-CH-10000454        Furniture       Chairs   \n",
       "2  OFF-LA-10000240  Office Supplies       Labels   \n",
       "\n",
       "                                        Product Name   Sales  Quantity  \\\n",
       "0                  Bush Somerset Collection Bookcase  261.96         2   \n",
       "1  Hon Deluxe Fabric Upholstered Stacking Chairs,...  731.94         3   \n",
       "2  Self-Adhesive Address Labels for Typewriters b...   14.62         2   \n",
       "\n",
       "   Discount    Profit  \n",
       "0       0.0   41.9136  \n",
       "1       0.0  219.5820  \n",
       "2       0.0    6.8714  "
      ]
     },
     "execution_count": 107,
     "metadata": {},
     "output_type": "execute_result"
    }
   ],
   "source": [
    "# Using .head(3) the first 3 rows of your dataframe get displayed\n",
    "superstore.head(3)"
   ]
  },
  {
   "cell_type": "markdown",
   "metadata": {},
   "source": [
    "### How large is the table? .shape"
   ]
  },
  {
   "cell_type": "code",
   "execution_count": 114,
   "metadata": {},
   "outputs": [
    {
     "data": {
      "text/plain": [
       "(9994, 19)"
      ]
     },
     "execution_count": 114,
     "metadata": {},
     "output_type": "execute_result"
    }
   ],
   "source": [
    "# use the '.shape' attribute to see the number of rows and columns\n",
    "superstore.shape"
   ]
  },
  {
   "cell_type": "markdown",
   "metadata": {},
   "source": [
    "Our dataframe consists of 21 columns and 9994 rows."
   ]
  },
  {
   "cell_type": "markdown",
   "metadata": {},
   "source": [
    "### Getting a statistical summary for each column - describe()"
   ]
  },
  {
   "cell_type": "code",
   "execution_count": 110,
   "metadata": {},
   "outputs": [
    {
     "data": {
      "text/html": [
       "<div>\n",
       "<style scoped>\n",
       "    .dataframe tbody tr th:only-of-type {\n",
       "        vertical-align: middle;\n",
       "    }\n",
       "\n",
       "    .dataframe tbody tr th {\n",
       "        vertical-align: top;\n",
       "    }\n",
       "\n",
       "    .dataframe thead th {\n",
       "        text-align: right;\n",
       "    }\n",
       "</style>\n",
       "<table border=\"1\" class=\"dataframe\">\n",
       "  <thead>\n",
       "    <tr style=\"text-align: right;\">\n",
       "      <th></th>\n",
       "      <th>Row ID</th>\n",
       "      <th>Postal Code</th>\n",
       "      <th>Sales</th>\n",
       "      <th>Quantity</th>\n",
       "      <th>Discount</th>\n",
       "      <th>Profit</th>\n",
       "    </tr>\n",
       "  </thead>\n",
       "  <tbody>\n",
       "    <tr>\n",
       "      <th>count</th>\n",
       "      <td>9994.000000</td>\n",
       "      <td>9983.000000</td>\n",
       "      <td>9994.000000</td>\n",
       "      <td>9994.000000</td>\n",
       "      <td>9994.000000</td>\n",
       "      <td>9994.000000</td>\n",
       "    </tr>\n",
       "    <tr>\n",
       "      <th>mean</th>\n",
       "      <td>4997.500000</td>\n",
       "      <td>55245.233297</td>\n",
       "      <td>229.858001</td>\n",
       "      <td>3.789574</td>\n",
       "      <td>0.156203</td>\n",
       "      <td>28.656896</td>\n",
       "    </tr>\n",
       "    <tr>\n",
       "      <th>std</th>\n",
       "      <td>2885.163629</td>\n",
       "      <td>32038.715955</td>\n",
       "      <td>623.245101</td>\n",
       "      <td>2.225110</td>\n",
       "      <td>0.206452</td>\n",
       "      <td>234.260108</td>\n",
       "    </tr>\n",
       "    <tr>\n",
       "      <th>min</th>\n",
       "      <td>1.000000</td>\n",
       "      <td>1040.000000</td>\n",
       "      <td>0.444000</td>\n",
       "      <td>1.000000</td>\n",
       "      <td>0.000000</td>\n",
       "      <td>-6599.978000</td>\n",
       "    </tr>\n",
       "    <tr>\n",
       "      <th>25%</th>\n",
       "      <td>2499.250000</td>\n",
       "      <td>23223.000000</td>\n",
       "      <td>17.280000</td>\n",
       "      <td>2.000000</td>\n",
       "      <td>0.000000</td>\n",
       "      <td>1.728750</td>\n",
       "    </tr>\n",
       "    <tr>\n",
       "      <th>50%</th>\n",
       "      <td>4997.500000</td>\n",
       "      <td>57103.000000</td>\n",
       "      <td>54.490000</td>\n",
       "      <td>3.000000</td>\n",
       "      <td>0.200000</td>\n",
       "      <td>8.666500</td>\n",
       "    </tr>\n",
       "    <tr>\n",
       "      <th>75%</th>\n",
       "      <td>7495.750000</td>\n",
       "      <td>90008.000000</td>\n",
       "      <td>209.940000</td>\n",
       "      <td>5.000000</td>\n",
       "      <td>0.200000</td>\n",
       "      <td>29.364000</td>\n",
       "    </tr>\n",
       "    <tr>\n",
       "      <th>max</th>\n",
       "      <td>9994.000000</td>\n",
       "      <td>99301.000000</td>\n",
       "      <td>22638.480000</td>\n",
       "      <td>14.000000</td>\n",
       "      <td>0.800000</td>\n",
       "      <td>8399.976000</td>\n",
       "    </tr>\n",
       "  </tbody>\n",
       "</table>\n",
       "</div>"
      ],
      "text/plain": [
       "            Row ID   Postal Code         Sales     Quantity     Discount  \\\n",
       "count  9994.000000   9983.000000   9994.000000  9994.000000  9994.000000   \n",
       "mean   4997.500000  55245.233297    229.858001     3.789574     0.156203   \n",
       "std    2885.163629  32038.715955    623.245101     2.225110     0.206452   \n",
       "min       1.000000   1040.000000      0.444000     1.000000     0.000000   \n",
       "25%    2499.250000  23223.000000     17.280000     2.000000     0.000000   \n",
       "50%    4997.500000  57103.000000     54.490000     3.000000     0.200000   \n",
       "75%    7495.750000  90008.000000    209.940000     5.000000     0.200000   \n",
       "max    9994.000000  99301.000000  22638.480000    14.000000     0.800000   \n",
       "\n",
       "            Profit  \n",
       "count  9994.000000  \n",
       "mean     28.656896  \n",
       "std     234.260108  \n",
       "min   -6599.978000  \n",
       "25%       1.728750  \n",
       "50%       8.666500  \n",
       "75%      29.364000  \n",
       "max    8399.976000  "
      ]
     },
     "execution_count": 110,
     "metadata": {},
     "output_type": "execute_result"
    }
   ],
   "source": [
    "# the function '.describe' gives you a good overview of the descriptive stats of your numeric columns\n",
    "superstore.describe()"
   ]
  },
  {
   "cell_type": "markdown",
   "metadata": {},
   "source": [
    "### Getting a list of unique values (like 'Remove Duplicates' in Excel)"
   ]
  },
  {
   "cell_type": "code",
   "execution_count": 111,
   "metadata": {},
   "outputs": [
    {
     "data": {
      "text/plain": [
       "array(['Furniture', 'Office Supplies', 'Technology'], dtype=object)"
      ]
     },
     "execution_count": 111,
     "metadata": {},
     "output_type": "execute_result"
    }
   ],
   "source": [
    "# use '.unique' on the Category column to get an overview of your unique product categories\n",
    "superstore['Category'].unique()"
   ]
  },
  {
   "cell_type": "markdown",
   "metadata": {},
   "source": [
    "## Data wrangling"
   ]
  },
  {
   "cell_type": "markdown",
   "metadata": {},
   "source": [
    "### Add/remove columns"
   ]
  },
  {
   "cell_type": "code",
   "execution_count": 18,
   "metadata": {},
   "outputs": [],
   "source": [
    "# Replace the superstore dataframe with a new version where selected columns have been removed with drop()\n",
    "superstore = superstore.drop(['Ship Date','Ship Mode'], axis=1)"
   ]
  },
  {
   "cell_type": "code",
   "execution_count": 112,
   "metadata": {},
   "outputs": [
    {
     "data": {
      "text/html": [
       "<div>\n",
       "<style scoped>\n",
       "    .dataframe tbody tr th:only-of-type {\n",
       "        vertical-align: middle;\n",
       "    }\n",
       "\n",
       "    .dataframe tbody tr th {\n",
       "        vertical-align: top;\n",
       "    }\n",
       "\n",
       "    .dataframe thead th {\n",
       "        text-align: right;\n",
       "    }\n",
       "</style>\n",
       "<table border=\"1\" class=\"dataframe\">\n",
       "  <thead>\n",
       "    <tr style=\"text-align: right;\">\n",
       "      <th></th>\n",
       "      <th>Row ID</th>\n",
       "      <th>Order ID</th>\n",
       "      <th>Order Date</th>\n",
       "      <th>Customer ID</th>\n",
       "      <th>Customer Name</th>\n",
       "      <th>Segment</th>\n",
       "      <th>Country/Region</th>\n",
       "      <th>City</th>\n",
       "      <th>State</th>\n",
       "      <th>Postal Code</th>\n",
       "      <th>Region</th>\n",
       "      <th>Product ID</th>\n",
       "      <th>Category</th>\n",
       "      <th>Sub-Category</th>\n",
       "      <th>Product Name</th>\n",
       "      <th>Sales</th>\n",
       "      <th>Quantity</th>\n",
       "      <th>Discount</th>\n",
       "      <th>Profit</th>\n",
       "    </tr>\n",
       "  </thead>\n",
       "  <tbody>\n",
       "    <tr>\n",
       "      <th>0</th>\n",
       "      <td>1</td>\n",
       "      <td>CA-2020-152156</td>\n",
       "      <td>2020-11-08</td>\n",
       "      <td>CG-12520</td>\n",
       "      <td>Claire Gute</td>\n",
       "      <td>Consumer</td>\n",
       "      <td>United States</td>\n",
       "      <td>Henderson</td>\n",
       "      <td>Kentucky</td>\n",
       "      <td>42420.0</td>\n",
       "      <td>South</td>\n",
       "      <td>FUR-BO-10001798</td>\n",
       "      <td>Furniture</td>\n",
       "      <td>Bookcases</td>\n",
       "      <td>Bush Somerset Collection Bookcase</td>\n",
       "      <td>261.9600</td>\n",
       "      <td>2</td>\n",
       "      <td>0.00</td>\n",
       "      <td>41.9136</td>\n",
       "    </tr>\n",
       "    <tr>\n",
       "      <th>1</th>\n",
       "      <td>2</td>\n",
       "      <td>CA-2020-152156</td>\n",
       "      <td>2020-11-08</td>\n",
       "      <td>CG-12520</td>\n",
       "      <td>Claire Gute</td>\n",
       "      <td>Consumer</td>\n",
       "      <td>United States</td>\n",
       "      <td>Henderson</td>\n",
       "      <td>Kentucky</td>\n",
       "      <td>42420.0</td>\n",
       "      <td>South</td>\n",
       "      <td>FUR-CH-10000454</td>\n",
       "      <td>Furniture</td>\n",
       "      <td>Chairs</td>\n",
       "      <td>Hon Deluxe Fabric Upholstered Stacking Chairs,...</td>\n",
       "      <td>731.9400</td>\n",
       "      <td>3</td>\n",
       "      <td>0.00</td>\n",
       "      <td>219.5820</td>\n",
       "    </tr>\n",
       "    <tr>\n",
       "      <th>2</th>\n",
       "      <td>3</td>\n",
       "      <td>CA-2020-138688</td>\n",
       "      <td>2020-06-12</td>\n",
       "      <td>DV-13045</td>\n",
       "      <td>Darrin Van Huff</td>\n",
       "      <td>Corporate</td>\n",
       "      <td>United States</td>\n",
       "      <td>Los Angeles</td>\n",
       "      <td>California</td>\n",
       "      <td>90036.0</td>\n",
       "      <td>West</td>\n",
       "      <td>OFF-LA-10000240</td>\n",
       "      <td>Office Supplies</td>\n",
       "      <td>Labels</td>\n",
       "      <td>Self-Adhesive Address Labels for Typewriters b...</td>\n",
       "      <td>14.6200</td>\n",
       "      <td>2</td>\n",
       "      <td>0.00</td>\n",
       "      <td>6.8714</td>\n",
       "    </tr>\n",
       "    <tr>\n",
       "      <th>3</th>\n",
       "      <td>4</td>\n",
       "      <td>US-2019-108966</td>\n",
       "      <td>2019-10-11</td>\n",
       "      <td>SO-20335</td>\n",
       "      <td>Sean O'Donnell</td>\n",
       "      <td>Consumer</td>\n",
       "      <td>United States</td>\n",
       "      <td>Fort Lauderdale</td>\n",
       "      <td>Florida</td>\n",
       "      <td>33311.0</td>\n",
       "      <td>South</td>\n",
       "      <td>FUR-TA-10000577</td>\n",
       "      <td>Furniture</td>\n",
       "      <td>Tables</td>\n",
       "      <td>Bretford CR4500 Series Slim Rectangular Table</td>\n",
       "      <td>957.5775</td>\n",
       "      <td>5</td>\n",
       "      <td>0.45</td>\n",
       "      <td>-383.0310</td>\n",
       "    </tr>\n",
       "    <tr>\n",
       "      <th>4</th>\n",
       "      <td>5</td>\n",
       "      <td>US-2019-108966</td>\n",
       "      <td>2019-10-11</td>\n",
       "      <td>SO-20335</td>\n",
       "      <td>Sean O'Donnell</td>\n",
       "      <td>Consumer</td>\n",
       "      <td>United States</td>\n",
       "      <td>Fort Lauderdale</td>\n",
       "      <td>Florida</td>\n",
       "      <td>33311.0</td>\n",
       "      <td>South</td>\n",
       "      <td>OFF-ST-10000760</td>\n",
       "      <td>Office Supplies</td>\n",
       "      <td>Storage</td>\n",
       "      <td>Eldon Fold 'N Roll Cart System</td>\n",
       "      <td>22.3680</td>\n",
       "      <td>2</td>\n",
       "      <td>0.20</td>\n",
       "      <td>2.5164</td>\n",
       "    </tr>\n",
       "  </tbody>\n",
       "</table>\n",
       "</div>"
      ],
      "text/plain": [
       "   Row ID        Order ID Order Date Customer ID    Customer Name    Segment  \\\n",
       "0       1  CA-2020-152156 2020-11-08    CG-12520      Claire Gute   Consumer   \n",
       "1       2  CA-2020-152156 2020-11-08    CG-12520      Claire Gute   Consumer   \n",
       "2       3  CA-2020-138688 2020-06-12    DV-13045  Darrin Van Huff  Corporate   \n",
       "3       4  US-2019-108966 2019-10-11    SO-20335   Sean O'Donnell   Consumer   \n",
       "4       5  US-2019-108966 2019-10-11    SO-20335   Sean O'Donnell   Consumer   \n",
       "\n",
       "  Country/Region             City       State  Postal Code Region  \\\n",
       "0  United States        Henderson    Kentucky      42420.0  South   \n",
       "1  United States        Henderson    Kentucky      42420.0  South   \n",
       "2  United States      Los Angeles  California      90036.0   West   \n",
       "3  United States  Fort Lauderdale     Florida      33311.0  South   \n",
       "4  United States  Fort Lauderdale     Florida      33311.0  South   \n",
       "\n",
       "        Product ID         Category Sub-Category  \\\n",
       "0  FUR-BO-10001798        Furniture    Bookcases   \n",
       "1  FUR-CH-10000454        Furniture       Chairs   \n",
       "2  OFF-LA-10000240  Office Supplies       Labels   \n",
       "3  FUR-TA-10000577        Furniture       Tables   \n",
       "4  OFF-ST-10000760  Office Supplies      Storage   \n",
       "\n",
       "                                        Product Name     Sales  Quantity  \\\n",
       "0                  Bush Somerset Collection Bookcase  261.9600         2   \n",
       "1  Hon Deluxe Fabric Upholstered Stacking Chairs,...  731.9400         3   \n",
       "2  Self-Adhesive Address Labels for Typewriters b...   14.6200         2   \n",
       "3      Bretford CR4500 Series Slim Rectangular Table  957.5775         5   \n",
       "4                     Eldon Fold 'N Roll Cart System   22.3680         2   \n",
       "\n",
       "   Discount    Profit  \n",
       "0      0.00   41.9136  \n",
       "1      0.00  219.5820  \n",
       "2      0.00    6.8714  \n",
       "3      0.45 -383.0310  \n",
       "4      0.20    2.5164  "
      ]
     },
     "execution_count": 112,
     "metadata": {},
     "output_type": "execute_result"
    }
   ],
   "source": [
    "superstore.head()"
   ]
  },
  {
   "cell_type": "code",
   "execution_count": 26,
   "metadata": {},
   "outputs": [],
   "source": [
    "# Create a new dataframe, reduced to a selection of columns\n",
    "\n",
    "customer_locations = superstore[['Order ID','Customer ID','Country/Region','City']]"
   ]
  },
  {
   "cell_type": "code",
   "execution_count": 27,
   "metadata": {},
   "outputs": [
    {
     "data": {
      "text/html": [
       "<div>\n",
       "<style scoped>\n",
       "    .dataframe tbody tr th:only-of-type {\n",
       "        vertical-align: middle;\n",
       "    }\n",
       "\n",
       "    .dataframe tbody tr th {\n",
       "        vertical-align: top;\n",
       "    }\n",
       "\n",
       "    .dataframe thead th {\n",
       "        text-align: right;\n",
       "    }\n",
       "</style>\n",
       "<table border=\"1\" class=\"dataframe\">\n",
       "  <thead>\n",
       "    <tr style=\"text-align: right;\">\n",
       "      <th></th>\n",
       "      <th>Order ID</th>\n",
       "      <th>Customer ID</th>\n",
       "      <th>Country/Region</th>\n",
       "      <th>City</th>\n",
       "    </tr>\n",
       "  </thead>\n",
       "  <tbody>\n",
       "    <tr>\n",
       "      <th>0</th>\n",
       "      <td>CA-2020-152156</td>\n",
       "      <td>CG-12520</td>\n",
       "      <td>United States</td>\n",
       "      <td>Henderson</td>\n",
       "    </tr>\n",
       "    <tr>\n",
       "      <th>1</th>\n",
       "      <td>CA-2020-152156</td>\n",
       "      <td>CG-12520</td>\n",
       "      <td>United States</td>\n",
       "      <td>Henderson</td>\n",
       "    </tr>\n",
       "    <tr>\n",
       "      <th>2</th>\n",
       "      <td>CA-2020-138688</td>\n",
       "      <td>DV-13045</td>\n",
       "      <td>United States</td>\n",
       "      <td>Los Angeles</td>\n",
       "    </tr>\n",
       "    <tr>\n",
       "      <th>3</th>\n",
       "      <td>US-2019-108966</td>\n",
       "      <td>SO-20335</td>\n",
       "      <td>United States</td>\n",
       "      <td>Fort Lauderdale</td>\n",
       "    </tr>\n",
       "    <tr>\n",
       "      <th>4</th>\n",
       "      <td>US-2019-108966</td>\n",
       "      <td>SO-20335</td>\n",
       "      <td>United States</td>\n",
       "      <td>Fort Lauderdale</td>\n",
       "    </tr>\n",
       "  </tbody>\n",
       "</table>\n",
       "</div>"
      ],
      "text/plain": [
       "         Order ID Customer ID Country/Region             City\n",
       "0  CA-2020-152156    CG-12520  United States        Henderson\n",
       "1  CA-2020-152156    CG-12520  United States        Henderson\n",
       "2  CA-2020-138688    DV-13045  United States      Los Angeles\n",
       "3  US-2019-108966    SO-20335  United States  Fort Lauderdale\n",
       "4  US-2019-108966    SO-20335  United States  Fort Lauderdale"
      ]
     },
     "execution_count": 27,
     "metadata": {},
     "output_type": "execute_result"
    }
   ],
   "source": [
    "customer_locations.head()"
   ]
  },
  {
   "cell_type": "markdown",
   "metadata": {},
   "source": [
    "### Perform columnwise calculations"
   ]
  },
  {
   "cell_type": "markdown",
   "metadata": {},
   "source": [
    "#### SUM()\n",
    "\n",
    "Summing a column"
   ]
  },
  {
   "cell_type": "code",
   "execution_count": null,
   "metadata": {},
   "outputs": [
    {
     "data": {
      "text/plain": [
       "Sales    2.297201e+06\n",
       "dtype: float64"
      ]
     },
     "metadata": {},
     "output_type": "display_data"
    }
   ],
   "source": [
    "superstore[['Sales']].sum()"
   ]
  },
  {
   "cell_type": "markdown",
   "metadata": {},
   "source": [
    "#### MAX(), MIN()"
   ]
  },
  {
   "cell_type": "code",
   "execution_count": null,
   "metadata": {},
   "outputs": [
    {
     "data": {
      "text/plain": [
       "Sales    0.444\n",
       "dtype: float64"
      ]
     },
     "metadata": {},
     "output_type": "display_data"
    }
   ],
   "source": [
    "superstore[['Sales']].max()"
   ]
  },
  {
   "cell_type": "markdown",
   "metadata": {},
   "source": [
    "## Sorting data"
   ]
  },
  {
   "cell_type": "code",
   "execution_count": 138,
   "metadata": {},
   "outputs": [
    {
     "data": {
      "text/html": [
       "<div>\n",
       "<style scoped>\n",
       "    .dataframe tbody tr th:only-of-type {\n",
       "        vertical-align: middle;\n",
       "    }\n",
       "\n",
       "    .dataframe tbody tr th {\n",
       "        vertical-align: top;\n",
       "    }\n",
       "\n",
       "    .dataframe thead th {\n",
       "        text-align: right;\n",
       "    }\n",
       "</style>\n",
       "<table border=\"1\" class=\"dataframe\">\n",
       "  <thead>\n",
       "    <tr style=\"text-align: right;\">\n",
       "      <th></th>\n",
       "      <th>Row ID</th>\n",
       "      <th>Order ID</th>\n",
       "      <th>Order Date</th>\n",
       "      <th>Customer ID</th>\n",
       "      <th>Customer Name</th>\n",
       "      <th>Segment</th>\n",
       "      <th>Country/Region</th>\n",
       "      <th>City</th>\n",
       "      <th>State</th>\n",
       "      <th>Postal Code</th>\n",
       "      <th>Region</th>\n",
       "      <th>Product ID</th>\n",
       "      <th>Category</th>\n",
       "      <th>Sub-Category</th>\n",
       "      <th>Product Name</th>\n",
       "      <th>Sales</th>\n",
       "      <th>Quantity</th>\n",
       "      <th>Discount</th>\n",
       "      <th>Profit</th>\n",
       "    </tr>\n",
       "  </thead>\n",
       "  <tbody>\n",
       "    <tr>\n",
       "      <th>2697</th>\n",
       "      <td>2698</td>\n",
       "      <td>CA-2018-145317</td>\n",
       "      <td>2018-03-18</td>\n",
       "      <td>SM-20320</td>\n",
       "      <td>Sean Miller</td>\n",
       "      <td>Home Office</td>\n",
       "      <td>United States</td>\n",
       "      <td>Jacksonville</td>\n",
       "      <td>Florida</td>\n",
       "      <td>32216.0</td>\n",
       "      <td>South</td>\n",
       "      <td>TEC-MA-10002412</td>\n",
       "      <td>Technology</td>\n",
       "      <td>Machines</td>\n",
       "      <td>Cisco TelePresence System EX90 Videoconferenci...</td>\n",
       "      <td>22638.48</td>\n",
       "      <td>6</td>\n",
       "      <td>0.5</td>\n",
       "      <td>-1811.0784</td>\n",
       "    </tr>\n",
       "    <tr>\n",
       "      <th>6826</th>\n",
       "      <td>6827</td>\n",
       "      <td>CA-2020-118689</td>\n",
       "      <td>2020-10-02</td>\n",
       "      <td>TC-20980</td>\n",
       "      <td>Tamara Chand</td>\n",
       "      <td>Corporate</td>\n",
       "      <td>United States</td>\n",
       "      <td>Lafayette</td>\n",
       "      <td>Indiana</td>\n",
       "      <td>47905.0</td>\n",
       "      <td>Central</td>\n",
       "      <td>TEC-CO-10004722</td>\n",
       "      <td>Technology</td>\n",
       "      <td>Copiers</td>\n",
       "      <td>Canon imageCLASS 2200 Advanced Copier</td>\n",
       "      <td>17499.95</td>\n",
       "      <td>5</td>\n",
       "      <td>0.0</td>\n",
       "      <td>8399.9760</td>\n",
       "    </tr>\n",
       "    <tr>\n",
       "      <th>8153</th>\n",
       "      <td>8154</td>\n",
       "      <td>CA-2021-140151</td>\n",
       "      <td>2021-03-23</td>\n",
       "      <td>RB-19360</td>\n",
       "      <td>Raymond Buch</td>\n",
       "      <td>Consumer</td>\n",
       "      <td>United States</td>\n",
       "      <td>Seattle</td>\n",
       "      <td>Washington</td>\n",
       "      <td>98115.0</td>\n",
       "      <td>West</td>\n",
       "      <td>TEC-CO-10004722</td>\n",
       "      <td>Technology</td>\n",
       "      <td>Copiers</td>\n",
       "      <td>Canon imageCLASS 2200 Advanced Copier</td>\n",
       "      <td>13999.96</td>\n",
       "      <td>4</td>\n",
       "      <td>0.0</td>\n",
       "      <td>6719.9808</td>\n",
       "    </tr>\n",
       "  </tbody>\n",
       "</table>\n",
       "</div>"
      ],
      "text/plain": [
       "      Row ID        Order ID Order Date Customer ID Customer Name  \\\n",
       "2697    2698  CA-2018-145317 2018-03-18    SM-20320   Sean Miller   \n",
       "6826    6827  CA-2020-118689 2020-10-02    TC-20980  Tamara Chand   \n",
       "8153    8154  CA-2021-140151 2021-03-23    RB-19360  Raymond Buch   \n",
       "\n",
       "          Segment Country/Region          City       State  Postal Code  \\\n",
       "2697  Home Office  United States  Jacksonville     Florida      32216.0   \n",
       "6826    Corporate  United States     Lafayette     Indiana      47905.0   \n",
       "8153     Consumer  United States       Seattle  Washington      98115.0   \n",
       "\n",
       "       Region       Product ID    Category Sub-Category  \\\n",
       "2697    South  TEC-MA-10002412  Technology     Machines   \n",
       "6826  Central  TEC-CO-10004722  Technology      Copiers   \n",
       "8153     West  TEC-CO-10004722  Technology      Copiers   \n",
       "\n",
       "                                           Product Name     Sales  Quantity  \\\n",
       "2697  Cisco TelePresence System EX90 Videoconferenci...  22638.48         6   \n",
       "6826              Canon imageCLASS 2200 Advanced Copier  17499.95         5   \n",
       "8153              Canon imageCLASS 2200 Advanced Copier  13999.96         4   \n",
       "\n",
       "      Discount     Profit  \n",
       "2697       0.5 -1811.0784  \n",
       "6826       0.0  8399.9760  \n",
       "8153       0.0  6719.9808  "
      ]
     },
     "execution_count": 138,
     "metadata": {},
     "output_type": "execute_result"
    }
   ],
   "source": [
    "# Finding our top 3 sales\n",
    "superstore.sort_values(by='Sales', ascending=False).head(3)"
   ]
  },
  {
   "cell_type": "markdown",
   "metadata": {},
   "source": [
    "### Filtering"
   ]
  },
  {
   "cell_type": "markdown",
   "metadata": {},
   "source": [
    "#### Basic filtering"
   ]
  },
  {
   "cell_type": "code",
   "execution_count": 105,
   "metadata": {},
   "outputs": [
    {
     "data": {
      "text/html": [
       "<div>\n",
       "<style scoped>\n",
       "    .dataframe tbody tr th:only-of-type {\n",
       "        vertical-align: middle;\n",
       "    }\n",
       "\n",
       "    .dataframe tbody tr th {\n",
       "        vertical-align: top;\n",
       "    }\n",
       "\n",
       "    .dataframe thead th {\n",
       "        text-align: right;\n",
       "    }\n",
       "</style>\n",
       "<table border=\"1\" class=\"dataframe\">\n",
       "  <thead>\n",
       "    <tr style=\"text-align: right;\">\n",
       "      <th></th>\n",
       "      <th>Row ID</th>\n",
       "      <th>Order ID</th>\n",
       "      <th>Order Date</th>\n",
       "      <th>Customer ID</th>\n",
       "      <th>Customer Name</th>\n",
       "      <th>Segment</th>\n",
       "      <th>Country/Region</th>\n",
       "      <th>City</th>\n",
       "      <th>State</th>\n",
       "      <th>Postal Code</th>\n",
       "      <th>Region</th>\n",
       "      <th>Product ID</th>\n",
       "      <th>Category</th>\n",
       "      <th>Sub-Category</th>\n",
       "      <th>Product Name</th>\n",
       "      <th>Sales</th>\n",
       "      <th>Quantity</th>\n",
       "      <th>Discount</th>\n",
       "      <th>Profit</th>\n",
       "    </tr>\n",
       "  </thead>\n",
       "  <tbody>\n",
       "    <tr>\n",
       "      <th>3</th>\n",
       "      <td>4</td>\n",
       "      <td>US-2019-108966</td>\n",
       "      <td>2019-10-11</td>\n",
       "      <td>SO-20335</td>\n",
       "      <td>Sean O'Donnell</td>\n",
       "      <td>Consumer</td>\n",
       "      <td>United States</td>\n",
       "      <td>Fort Lauderdale</td>\n",
       "      <td>Florida</td>\n",
       "      <td>33311.0</td>\n",
       "      <td>South</td>\n",
       "      <td>FUR-TA-10000577</td>\n",
       "      <td>Furniture</td>\n",
       "      <td>Tables</td>\n",
       "      <td>Bretford CR4500 Series Slim Rectangular Table</td>\n",
       "      <td>957.5775</td>\n",
       "      <td>5</td>\n",
       "      <td>0.45</td>\n",
       "      <td>-383.0310</td>\n",
       "    </tr>\n",
       "    <tr>\n",
       "      <th>4</th>\n",
       "      <td>5</td>\n",
       "      <td>US-2019-108966</td>\n",
       "      <td>2019-10-11</td>\n",
       "      <td>SO-20335</td>\n",
       "      <td>Sean O'Donnell</td>\n",
       "      <td>Consumer</td>\n",
       "      <td>United States</td>\n",
       "      <td>Fort Lauderdale</td>\n",
       "      <td>Florida</td>\n",
       "      <td>33311.0</td>\n",
       "      <td>South</td>\n",
       "      <td>OFF-ST-10000760</td>\n",
       "      <td>Office Supplies</td>\n",
       "      <td>Storage</td>\n",
       "      <td>Eldon Fold 'N Roll Cart System</td>\n",
       "      <td>22.3680</td>\n",
       "      <td>2</td>\n",
       "      <td>0.20</td>\n",
       "      <td>2.5164</td>\n",
       "    </tr>\n",
       "    <tr>\n",
       "      <th>43</th>\n",
       "      <td>44</td>\n",
       "      <td>CA-2021-139619</td>\n",
       "      <td>2021-09-19</td>\n",
       "      <td>ES-14080</td>\n",
       "      <td>Erin Smith</td>\n",
       "      <td>Corporate</td>\n",
       "      <td>United States</td>\n",
       "      <td>Melbourne</td>\n",
       "      <td>Florida</td>\n",
       "      <td>32935.0</td>\n",
       "      <td>South</td>\n",
       "      <td>OFF-ST-10003282</td>\n",
       "      <td>Office Supplies</td>\n",
       "      <td>Storage</td>\n",
       "      <td>Advantus 10-Drawer Portable Organizer, Chrome ...</td>\n",
       "      <td>95.6160</td>\n",
       "      <td>2</td>\n",
       "      <td>0.20</td>\n",
       "      <td>9.5616</td>\n",
       "    </tr>\n",
       "    <tr>\n",
       "      <th>231</th>\n",
       "      <td>232</td>\n",
       "      <td>US-2021-100930</td>\n",
       "      <td>2021-04-07</td>\n",
       "      <td>CS-12400</td>\n",
       "      <td>Christopher Schild</td>\n",
       "      <td>Home Office</td>\n",
       "      <td>United States</td>\n",
       "      <td>Tampa</td>\n",
       "      <td>Florida</td>\n",
       "      <td>33614.0</td>\n",
       "      <td>South</td>\n",
       "      <td>FUR-TA-10001705</td>\n",
       "      <td>Furniture</td>\n",
       "      <td>Tables</td>\n",
       "      <td>Bush Advantage Collection Round Conference Table</td>\n",
       "      <td>233.8600</td>\n",
       "      <td>2</td>\n",
       "      <td>0.45</td>\n",
       "      <td>-102.0480</td>\n",
       "    </tr>\n",
       "    <tr>\n",
       "      <th>232</th>\n",
       "      <td>233</td>\n",
       "      <td>US-2021-100930</td>\n",
       "      <td>2021-04-07</td>\n",
       "      <td>CS-12400</td>\n",
       "      <td>Christopher Schild</td>\n",
       "      <td>Home Office</td>\n",
       "      <td>United States</td>\n",
       "      <td>Tampa</td>\n",
       "      <td>Florida</td>\n",
       "      <td>33614.0</td>\n",
       "      <td>South</td>\n",
       "      <td>FUR-TA-10003473</td>\n",
       "      <td>Furniture</td>\n",
       "      <td>Tables</td>\n",
       "      <td>Bretford Rectangular Conference Table Tops</td>\n",
       "      <td>620.6145</td>\n",
       "      <td>3</td>\n",
       "      <td>0.45</td>\n",
       "      <td>-248.2458</td>\n",
       "    </tr>\n",
       "  </tbody>\n",
       "</table>\n",
       "</div>"
      ],
      "text/plain": [
       "     Row ID        Order ID Order Date Customer ID       Customer Name  \\\n",
       "3         4  US-2019-108966 2019-10-11    SO-20335      Sean O'Donnell   \n",
       "4         5  US-2019-108966 2019-10-11    SO-20335      Sean O'Donnell   \n",
       "43       44  CA-2021-139619 2021-09-19    ES-14080          Erin Smith   \n",
       "231     232  US-2021-100930 2021-04-07    CS-12400  Christopher Schild   \n",
       "232     233  US-2021-100930 2021-04-07    CS-12400  Christopher Schild   \n",
       "\n",
       "         Segment Country/Region             City    State  Postal Code Region  \\\n",
       "3       Consumer  United States  Fort Lauderdale  Florida      33311.0  South   \n",
       "4       Consumer  United States  Fort Lauderdale  Florida      33311.0  South   \n",
       "43     Corporate  United States        Melbourne  Florida      32935.0  South   \n",
       "231  Home Office  United States            Tampa  Florida      33614.0  South   \n",
       "232  Home Office  United States            Tampa  Florida      33614.0  South   \n",
       "\n",
       "          Product ID         Category Sub-Category  \\\n",
       "3    FUR-TA-10000577        Furniture       Tables   \n",
       "4    OFF-ST-10000760  Office Supplies      Storage   \n",
       "43   OFF-ST-10003282  Office Supplies      Storage   \n",
       "231  FUR-TA-10001705        Furniture       Tables   \n",
       "232  FUR-TA-10003473        Furniture       Tables   \n",
       "\n",
       "                                          Product Name     Sales  Quantity  \\\n",
       "3        Bretford CR4500 Series Slim Rectangular Table  957.5775         5   \n",
       "4                       Eldon Fold 'N Roll Cart System   22.3680         2   \n",
       "43   Advantus 10-Drawer Portable Organizer, Chrome ...   95.6160         2   \n",
       "231   Bush Advantage Collection Round Conference Table  233.8600         2   \n",
       "232         Bretford Rectangular Conference Table Tops  620.6145         3   \n",
       "\n",
       "     Discount    Profit  \n",
       "3        0.45 -383.0310  \n",
       "4        0.20    2.5164  \n",
       "43       0.20    9.5616  \n",
       "231      0.45 -102.0480  \n",
       "232      0.45 -248.2458  "
      ]
     },
     "execution_count": 105,
     "metadata": {},
     "output_type": "execute_result"
    }
   ],
   "source": [
    "\n",
    "superstore[(superstore['State'] == 'Florida')].head()"
   ]
  },
  {
   "cell_type": "markdown",
   "metadata": {},
   "source": [
    "#### Filtering based on multiple conditions"
   ]
  },
  {
   "cell_type": "code",
   "execution_count": 106,
   "metadata": {},
   "outputs": [
    {
     "data": {
      "text/html": [
       "<div>\n",
       "<style scoped>\n",
       "    .dataframe tbody tr th:only-of-type {\n",
       "        vertical-align: middle;\n",
       "    }\n",
       "\n",
       "    .dataframe tbody tr th {\n",
       "        vertical-align: top;\n",
       "    }\n",
       "\n",
       "    .dataframe thead th {\n",
       "        text-align: right;\n",
       "    }\n",
       "</style>\n",
       "<table border=\"1\" class=\"dataframe\">\n",
       "  <thead>\n",
       "    <tr style=\"text-align: right;\">\n",
       "      <th></th>\n",
       "      <th>Row ID</th>\n",
       "      <th>Order ID</th>\n",
       "      <th>Order Date</th>\n",
       "      <th>Customer ID</th>\n",
       "      <th>Customer Name</th>\n",
       "      <th>Segment</th>\n",
       "      <th>Country/Region</th>\n",
       "      <th>City</th>\n",
       "      <th>State</th>\n",
       "      <th>Postal Code</th>\n",
       "      <th>Region</th>\n",
       "      <th>Product ID</th>\n",
       "      <th>Category</th>\n",
       "      <th>Sub-Category</th>\n",
       "      <th>Product Name</th>\n",
       "      <th>Sales</th>\n",
       "      <th>Quantity</th>\n",
       "      <th>Discount</th>\n",
       "      <th>Profit</th>\n",
       "    </tr>\n",
       "  </thead>\n",
       "  <tbody>\n",
       "    <tr>\n",
       "      <th>233</th>\n",
       "      <td>234</td>\n",
       "      <td>US-2021-100930</td>\n",
       "      <td>2021-04-07</td>\n",
       "      <td>CS-12400</td>\n",
       "      <td>Christopher Schild</td>\n",
       "      <td>Home Office</td>\n",
       "      <td>United States</td>\n",
       "      <td>Tampa</td>\n",
       "      <td>Florida</td>\n",
       "      <td>33614.0</td>\n",
       "      <td>South</td>\n",
       "      <td>OFF-BI-10001679</td>\n",
       "      <td>Office Supplies</td>\n",
       "      <td>Binders</td>\n",
       "      <td>GBC Instant Index System for Binding Systems</td>\n",
       "      <td>5.328</td>\n",
       "      <td>2</td>\n",
       "      <td>0.7</td>\n",
       "      <td>-3.5520</td>\n",
       "    </tr>\n",
       "    <tr>\n",
       "      <th>286</th>\n",
       "      <td>287</td>\n",
       "      <td>CA-2020-112697</td>\n",
       "      <td>2020-12-18</td>\n",
       "      <td>AH-10195</td>\n",
       "      <td>Alan Haines</td>\n",
       "      <td>Corporate</td>\n",
       "      <td>United States</td>\n",
       "      <td>Tamarac</td>\n",
       "      <td>Florida</td>\n",
       "      <td>33319.0</td>\n",
       "      <td>South</td>\n",
       "      <td>OFF-BI-10000778</td>\n",
       "      <td>Office Supplies</td>\n",
       "      <td>Binders</td>\n",
       "      <td>GBC VeloBinder Electric Binding Machine</td>\n",
       "      <td>254.058</td>\n",
       "      <td>7</td>\n",
       "      <td>0.7</td>\n",
       "      <td>-169.3720</td>\n",
       "    </tr>\n",
       "    <tr>\n",
       "      <th>434</th>\n",
       "      <td>435</td>\n",
       "      <td>US-2018-150574</td>\n",
       "      <td>2018-12-19</td>\n",
       "      <td>MK-18160</td>\n",
       "      <td>Mike Kennedy</td>\n",
       "      <td>Consumer</td>\n",
       "      <td>United States</td>\n",
       "      <td>Jacksonville</td>\n",
       "      <td>Florida</td>\n",
       "      <td>32216.0</td>\n",
       "      <td>South</td>\n",
       "      <td>OFF-BI-10000773</td>\n",
       "      <td>Office Supplies</td>\n",
       "      <td>Binders</td>\n",
       "      <td>Insertable Tab Post Binder Dividers</td>\n",
       "      <td>4.812</td>\n",
       "      <td>2</td>\n",
       "      <td>0.7</td>\n",
       "      <td>-3.6892</td>\n",
       "    </tr>\n",
       "    <tr>\n",
       "      <th>604</th>\n",
       "      <td>605</td>\n",
       "      <td>CA-2018-149958</td>\n",
       "      <td>2018-03-15</td>\n",
       "      <td>AS-10240</td>\n",
       "      <td>Alan Shonely</td>\n",
       "      <td>Consumer</td>\n",
       "      <td>United States</td>\n",
       "      <td>Tampa</td>\n",
       "      <td>Florida</td>\n",
       "      <td>33614.0</td>\n",
       "      <td>South</td>\n",
       "      <td>OFF-BI-10000773</td>\n",
       "      <td>Office Supplies</td>\n",
       "      <td>Binders</td>\n",
       "      <td>Insertable Tab Post Binder Dividers</td>\n",
       "      <td>7.218</td>\n",
       "      <td>3</td>\n",
       "      <td>0.7</td>\n",
       "      <td>-5.5338</td>\n",
       "    </tr>\n",
       "    <tr>\n",
       "      <th>605</th>\n",
       "      <td>606</td>\n",
       "      <td>CA-2018-149958</td>\n",
       "      <td>2018-03-15</td>\n",
       "      <td>AS-10240</td>\n",
       "      <td>Alan Shonely</td>\n",
       "      <td>Consumer</td>\n",
       "      <td>United States</td>\n",
       "      <td>Tampa</td>\n",
       "      <td>Florida</td>\n",
       "      <td>33614.0</td>\n",
       "      <td>South</td>\n",
       "      <td>OFF-BI-10001543</td>\n",
       "      <td>Office Supplies</td>\n",
       "      <td>Binders</td>\n",
       "      <td>GBC VeloBinder Manual Binding System</td>\n",
       "      <td>43.188</td>\n",
       "      <td>4</td>\n",
       "      <td>0.7</td>\n",
       "      <td>-31.6712</td>\n",
       "    </tr>\n",
       "  </tbody>\n",
       "</table>\n",
       "</div>"
      ],
      "text/plain": [
       "     Row ID        Order ID Order Date Customer ID       Customer Name  \\\n",
       "233     234  US-2021-100930 2021-04-07    CS-12400  Christopher Schild   \n",
       "286     287  CA-2020-112697 2020-12-18    AH-10195         Alan Haines   \n",
       "434     435  US-2018-150574 2018-12-19    MK-18160        Mike Kennedy   \n",
       "604     605  CA-2018-149958 2018-03-15    AS-10240        Alan Shonely   \n",
       "605     606  CA-2018-149958 2018-03-15    AS-10240        Alan Shonely   \n",
       "\n",
       "         Segment Country/Region          City    State  Postal Code Region  \\\n",
       "233  Home Office  United States         Tampa  Florida      33614.0  South   \n",
       "286    Corporate  United States       Tamarac  Florida      33319.0  South   \n",
       "434     Consumer  United States  Jacksonville  Florida      32216.0  South   \n",
       "604     Consumer  United States         Tampa  Florida      33614.0  South   \n",
       "605     Consumer  United States         Tampa  Florida      33614.0  South   \n",
       "\n",
       "          Product ID         Category Sub-Category  \\\n",
       "233  OFF-BI-10001679  Office Supplies      Binders   \n",
       "286  OFF-BI-10000778  Office Supplies      Binders   \n",
       "434  OFF-BI-10000773  Office Supplies      Binders   \n",
       "604  OFF-BI-10000773  Office Supplies      Binders   \n",
       "605  OFF-BI-10001543  Office Supplies      Binders   \n",
       "\n",
       "                                     Product Name    Sales  Quantity  \\\n",
       "233  GBC Instant Index System for Binding Systems    5.328         2   \n",
       "286       GBC VeloBinder Electric Binding Machine  254.058         7   \n",
       "434           Insertable Tab Post Binder Dividers    4.812         2   \n",
       "604           Insertable Tab Post Binder Dividers    7.218         3   \n",
       "605          GBC VeloBinder Manual Binding System   43.188         4   \n",
       "\n",
       "     Discount    Profit  \n",
       "233       0.7   -3.5520  \n",
       "286       0.7 -169.3720  \n",
       "434       0.7   -3.6892  \n",
       "604       0.7   -5.5338  \n",
       "605       0.7  -31.6712  "
      ]
     },
     "execution_count": 106,
     "metadata": {},
     "output_type": "execute_result"
    }
   ],
   "source": [
    "superstore[(superstore['State'] == 'Florida') & (superstore['Discount'] > 0.6) & (superstore['Profit'] < 0)].head()"
   ]
  },
  {
   "cell_type": "markdown",
   "metadata": {},
   "source": [
    "## Pivot Tables"
   ]
  },
  {
   "cell_type": "code",
   "execution_count": 141,
   "metadata": {},
   "outputs": [
    {
     "data": {
      "text/html": [
       "<div>\n",
       "<style scoped>\n",
       "    .dataframe tbody tr th:only-of-type {\n",
       "        vertical-align: middle;\n",
       "    }\n",
       "\n",
       "    .dataframe tbody tr th {\n",
       "        vertical-align: top;\n",
       "    }\n",
       "\n",
       "    .dataframe thead th {\n",
       "        text-align: right;\n",
       "    }\n",
       "</style>\n",
       "<table border=\"1\" class=\"dataframe\">\n",
       "  <thead>\n",
       "    <tr style=\"text-align: right;\">\n",
       "      <th></th>\n",
       "      <th>Sales</th>\n",
       "    </tr>\n",
       "    <tr>\n",
       "      <th>Order Date</th>\n",
       "      <th></th>\n",
       "    </tr>\n",
       "  </thead>\n",
       "  <tbody>\n",
       "    <tr>\n",
       "      <th>2018-01-03</th>\n",
       "      <td>16.448</td>\n",
       "    </tr>\n",
       "    <tr>\n",
       "      <th>2018-01-04</th>\n",
       "      <td>288.060</td>\n",
       "    </tr>\n",
       "    <tr>\n",
       "      <th>2018-01-05</th>\n",
       "      <td>19.536</td>\n",
       "    </tr>\n",
       "    <tr>\n",
       "      <th>2018-01-06</th>\n",
       "      <td>4407.100</td>\n",
       "    </tr>\n",
       "    <tr>\n",
       "      <th>2018-01-07</th>\n",
       "      <td>87.158</td>\n",
       "    </tr>\n",
       "  </tbody>\n",
       "</table>\n",
       "</div>"
      ],
      "text/plain": [
       "               Sales\n",
       "Order Date          \n",
       "2018-01-03    16.448\n",
       "2018-01-04   288.060\n",
       "2018-01-05    19.536\n",
       "2018-01-06  4407.100\n",
       "2018-01-07    87.158"
      ]
     },
     "execution_count": 141,
     "metadata": {},
     "output_type": "execute_result"
    }
   ],
   "source": [
    "pivot_sales_by_date = pd.pivot_table(\n",
    "    data = superstore, # The dataframe to pivot\n",
    "    index = ['Order Date'], # Choose the columns to group by\n",
    "    values = ['Sales'], # Choose the values to aggregate/summarize\n",
    "    aggfunc = 'sum', # Choose the type of aggregation: 'sum', 'mean', 'max', 'min', etc..\n",
    ")\n",
    "\n",
    "pivot_sales_by_date.head()"
   ]
  },
  {
   "cell_type": "code",
   "execution_count": 64,
   "metadata": {},
   "outputs": [
    {
     "name": "stdout",
     "output_type": "stream",
     "text": [
      "                              Quantity      Sales\n",
      "Category        Sub-Category                     \n",
      "Furniture       Bookcases           13   4404.900\n",
      "                Chairs              14   4416.174\n",
      "                Furnishings         14   1336.440\n",
      "                Tables              13   4297.644\n",
      "Office Supplies Appliances          14   2625.120\n",
      "                Art                 14   1113.024\n",
      "                Binders             14   9892.740\n",
      "                Envelopes            9    604.656\n",
      "                Fasteners           14     93.360\n",
      "                Labels              14    786.480\n",
      "                Paper               14    733.950\n",
      "                Storage             14   2934.330\n",
      "                Supplies            10   8187.650\n",
      "Technology      Accessories         14   3347.370\n",
      "                Copiers              9  17499.950\n",
      "                Machines            11  22638.480\n",
      "                Phones              14   4548.810\n"
     ]
    }
   ],
   "source": [
    "pivot_category_sales = pd.pivot_table(\n",
    "    data = superstore, # The dataframe to pivot\n",
    "    index = ['Category','Sub-Category'], # Choose the columns to group by\n",
    "    values = ['Sales','Quantity'], # Choose the values to aggregate/summarize\n",
    "    aggfunc = 'max', # Choose the type of aggregation: 'sum', 'mean', 'max', 'min', etc..\n",
    ")\n",
    "\n",
    "print(pivot_category_sales)"
   ]
  },
  {
   "cell_type": "code",
   "execution_count": 134,
   "metadata": {},
   "outputs": [
    {
     "name": "stdout",
     "output_type": "stream",
     "text": [
      "Category                Furniture  Office Supplies  Technology\n",
      "State                                                         \n",
      "Alabama                 6332.4800         4209.080    8969.080\n",
      "Arizona                13525.2910        10005.825   11750.885\n",
      "Arkansas                3187.5500         4565.330    3925.250\n",
      "California            156064.6015       142351.948  159271.082\n",
      "Colorado               13243.0370         7898.752   10966.329\n",
      "Connecticut             5174.9870         5418.340    2791.030\n",
      "Delaware                4759.3190         8129.530   14562.220\n",
      "District of Columbia    1346.5800          138.520    1379.920\n",
      "Florida                22987.0380        19518.634   46968.036\n",
      "Georgia                 8321.4800        26715.810   14058.550\n",
      "Idaho                   2595.4820          949.506     837.498\n",
      "Illinois               28274.5220        19907.906   31983.673\n",
      "Indiana                11496.7100        15735.400   26323.250\n",
      "Iowa                    2642.3100          783.150    1154.300\n",
      "Kansas                   111.1200         1954.150     849.040\n"
     ]
    }
   ],
   "source": [
    "pivot_category_sales = pd.pivot_table(\n",
    "    data = superstore, # The dataframe to pivot\n",
    "    index = 'State', # Choose the rows to group by\n",
    "    columns = 'Category', # Choose the columns to group by\n",
    "    values = 'Sales', # Choose the values to aggregate/summarize\n",
    "    aggfunc = 'sum', # Choose the type of aggregation: 'sum', 'mean', 'max', 'min', etc..\n",
    "    # margins = True # Adds totals\n",
    ")\n",
    "\n",
    "print(pivot_category_sales.head(15))"
   ]
  },
  {
   "cell_type": "markdown",
   "metadata": {},
   "source": [
    "## Basic graphs"
   ]
  },
  {
   "cell_type": "code",
   "execution_count": 142,
   "metadata": {},
   "outputs": [
    {
     "data": {
      "text/plain": [
       "<AxesSubplot:xlabel='Order Date'>"
      ]
     },
     "execution_count": 142,
     "metadata": {},
     "output_type": "execute_result"
    },
    {
     "data": {
      "image/png": "[encoded data removed]",
      "text/plain": [
       "<Figure size 432x288 with 1 Axes>"
      ]
     },
     "metadata": {
      "needs_background": "light"
     },
     "output_type": "display_data"
    }
   ],
   "source": [
    "pivot_sales_by_date.plot()"
   ]
  },
  {
   "cell_type": "code",
   "execution_count": 79,
   "metadata": {},
   "outputs": [
    {
     "data": {
      "text/plain": [
       "<AxesSubplot:xlabel='State'>"
      ]
     },
     "execution_count": 79,
     "metadata": {},
     "output_type": "execute_result"
    },
    {
     "data": {
      "image/png": "[encoded data removed]",
      "text/plain": [
       "<Figure size 432x288 with 1 Axes>"
      ]
     },
     "metadata": {
      "needs_background": "light"
     },
     "output_type": "display_data"
    }
   ],
   "source": [
    "pivot_category_sales.head(6).plot.bar()"
   ]
  },
  {
   "cell_type": "markdown",
   "metadata": {},
   "source": [
    "## Merge datasets"
   ]
  },
  {
   "cell_type": "markdown",
   "metadata": {},
   "source": [
    "VLOOKUP()"
   ]
  },
  {
   "cell_type": "markdown",
   "metadata": {},
   "source": []
  },
  {
   "cell_type": "code",
   "execution_count": null,
   "metadata": {},
   "outputs": [],
   "source": []
  },
  {
   "cell_type": "markdown",
   "metadata": {},
   "source": [
    "## Export to Excel"
   ]
  },
  {
   "cell_type": "code",
   "execution_count": 135,
   "metadata": {},
   "outputs": [],
   "source": [
    "# Creating an empty Excel file\n",
    "from openpyxl import Workbook\n",
    "wb = Workbook()\n",
    "wb.save('data/demo_output_file.xlsx')\n",
    "\n",
    "# Saving our pivot tables into it\n",
    "with pd.ExcelWriter(\"data/demo_output_file.xlsx\", mode=\"a\", engine=\"openpyxl\") as writer:\n",
    "    pivot_category_sales.to_excel(writer, sheet_name=\"Sales by Category\")\n",
    "    pivot_sales_by_date.to_excel(writer, sheet_name=\"Sales by Date\")"
   ]
  }
 ],
 "metadata": {
  "interpreter": {
   "hash": "b89b5cfaba6639976dc87ff2fec6d58faec662063367e2c229c520fe71072417"
  },
  "kernelspec": {
   "display_name": "Python 3.10.4 64-bit",
   "language": "python",
   "name": "python3"
  },
  "language_info": {
   "codemirror_mode": {
    "name": "ipython",
    "version": 3
   },
   "file_extension": ".py",
   "mimetype": "text/x-python",
   "name": "python",
   "nbconvert_exporter": "python",
   "pygments_lexer": "ipython3",
   "version": "3.10.4"
  },
  "orig_nbformat": 4
 },
 "nbformat": 4,
 "nbformat_minor": 2
}
