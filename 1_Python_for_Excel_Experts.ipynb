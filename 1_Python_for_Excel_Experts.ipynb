{
 "cells": [
  {
   "cell_type": "markdown",
   "metadata": {},
   "source": [
    "# Introduction to Python for Excel Experts"
   ]
  },
  {
   "cell_type": "markdown",
   "metadata": {},
   "source": [
    "Aims of this session: \n",
    "- Demystify programming\n",
    "- Gain first experiences programming in Python\n",
    "- Reduce barriers to changing existing processes and trying out new tools\n",
    "- Realise value and possibilities that Python provides\n",
    "\n",
    "By the end of the session, you will know how to:\n",
    "- Use comments\n",
    "- Import libraries to extend functionality\n",
    "- Work with text\n",
    "- Work with numbers and perform basic arithmetic\n",
    "- Create and work with variables\n",
    "- Use 'if' statements\n",
    "\n",
    "Along with how to:\n",
    "- Import data from Excel files\n",
    "- Work with data in tables\n",
    "- Summarise data\n",
    "- Make basic graphs\n",
    "- Save data to Excel files"
   ]
  },
  {
   "cell_type": "markdown",
   "metadata": {},
   "source": [
    "## Basic Concepts"
   ]
  },
  {
   "cell_type": "markdown",
   "metadata": {},
   "source": [
    "### Using comments\n",
    "Comments allow us to explain what code is doing, when it isn't clear. \n",
    "\n",
    "Just type #  \n",
    "Everything on the same line after the # will be ignored when the code is run."
   ]
  },
  {
   "cell_type": "code",
   "execution_count": null,
   "metadata": {},
   "outputs": [],
   "source": [
    "# This is a comment\n",
    "print(1 + 2) # This is a comment on the same line as some code\n",
    "\n",
    "# It is also a useful way to 'deactivate' a line of code temporarily\n",
    "# print(1 + 2) "
   ]
  },
  {
   "cell_type": "markdown",
   "metadata": {},
   "source": [
    "### Add new functionality with libraries\n",
    "Python allows us to add new functions by importing external libraries."
   ]
  },
  {
   "cell_type": "code",
   "execution_count": null,
   "metadata": {},
   "outputs": [],
   "source": [
    "import pandas as pd     # Pandas lets us work easily with numbers and tables\n",
    "\n",
    "import xlrd     # for importing and exporting Excel files\n",
    "\n",
    "import matplotlib   # for creating graphs"
   ]
  },
  {
   "cell_type": "markdown",
   "metadata": {},
   "source": [
    "### Using variables\n",
    "\n",
    "In Python, using variables is simple, (unlike VBA) there is no need to define them at the start of the code, and no need to set the data type.\n",
    "\n",
    "Just write something like this:\n",
    "\n",
    "```python\n",
    "top_speed_kmh = 75\n",
    "```\n",
    "All you need is:\n",
    "1. a meaningful name for your variable:  __top_speed_kmh__\n",
    "2. an equals sign: __=__ \n",
    "3. what you want to store in the variable (a number or text): __75__"
   ]
  },
  {
   "cell_type": "code",
   "execution_count": null,
   "metadata": {},
   "outputs": [],
   "source": [
    "# How to store a number in a variable\n",
    "top_speed_kmh = 32.7 \n",
    "\n",
    "# Text works the same way, just put a quotation mark before and after\n",
    "car_brand = \"Ford\""
   ]
  },
  {
   "cell_type": "markdown",
   "metadata": {},
   "source": [
    "### Working with text \n",
    "Pieces of text are called strings.\n",
    "Strings are written with apostrophes or quotation marks:\n",
    "\n",
    "```'This is a string'```  \n",
    "```\"This is also a string\"```"
   ]
  },
  {
   "cell_type": "markdown",
   "metadata": {},
   "source": [
    "#### Output to the screen with print()"
   ]
  },
  {
   "cell_type": "markdown",
   "metadata": {},
   "source": [
    "To output to the screen, use ```print()```  \n",
    "\n",
    "Either with a text string directly:"
   ]
  },
  {
   "cell_type": "code",
   "execution_count": null,
   "metadata": {},
   "outputs": [],
   "source": [
    "print(\"Welcome to the world of Python programming!\")"
   ]
  },
  {
   "cell_type": "markdown",
   "metadata": {},
   "source": [
    "Or with a variable name, to see what is stored in that variable:"
   ]
  },
  {
   "cell_type": "code",
   "execution_count": null,
   "metadata": {},
   "outputs": [],
   "source": [
    "print(car_brand)"
   ]
  },
  {
   "cell_type": "markdown",
   "metadata": {},
   "source": [
    "Or both:"
   ]
  },
  {
   "cell_type": "code",
   "execution_count": null,
   "metadata": {},
   "outputs": [],
   "source": [
    "print(car_brand + \" is a car brand\")"
   ]
  },
  {
   "cell_type": "markdown",
   "metadata": {},
   "source": [
    "#### Joining text together (Excel: CONCAT, VERKETTEN)\n",
    "To concatenate text in Excel you would use something like ``` =CONCAT(A2;\" \";B2) ```\n",
    "\n",
    "In Python you just use + signs between strings"
   ]
  },
  {
   "cell_type": "code",
   "execution_count": null,
   "metadata": {},
   "outputs": [],
   "source": [
    "car_brand = \"Ford\"\n",
    "car_model = \"Model T\"\n",
    "\n",
    "full_car_name = car_brand + \" \" + car_model\n",
    "\n",
    "print(full_car_name)"
   ]
  },
  {
   "cell_type": "markdown",
   "metadata": {},
   "source": [
    "To include numbers, convert them into strings using the str() function:  \n",
    "\n",
    "for example\n",
    "```str(top_speed_kmh)```"
   ]
  },
  {
   "cell_type": "code",
   "execution_count": null,
   "metadata": {},
   "outputs": [],
   "source": [
    "top_speed_text = \"The \" + car_model + \" has a top speed of \" + str(top_speed_kmh) + \" km/h\"\n",
    "\n",
    "print(top_speed_text)"
   ]
  },
  {
   "cell_type": "markdown",
   "metadata": {},
   "source": [
    "### Mathematical functions\n",
    "\n",
    "Just like in Excel, basic mathematics uses these symbols: + - / * ()"
   ]
  },
  {
   "cell_type": "code",
   "execution_count": null,
   "metadata": {},
   "outputs": [],
   "source": [
    "print(10 + 2)"
   ]
  },
  {
   "cell_type": "code",
   "execution_count": null,
   "metadata": {},
   "outputs": [],
   "source": [
    "start_position = 12.1\n",
    "end_position = 22\n",
    "time = 51\n",
    "\n",
    "# speed = distance / time\n",
    "speed = (end_position - start_position) / time\n",
    "\n",
    "print(speed)"
   ]
  },
  {
   "cell_type": "markdown",
   "metadata": {},
   "source": [
    "Powers are slightly different to Excel.\n",
    "\n",
    "In Python we use ```**``` for powers, so 5² is 5**2\n",
    "\n",
    "*(Careful: 5^2 will still give a result in Python, but the wrong result!)*"
   ]
  },
  {
   "cell_type": "code",
   "execution_count": null,
   "metadata": {},
   "outputs": [],
   "source": [
    "# this gives a surprising result\n",
    "print(5^2)"
   ]
  },
  {
   "cell_type": "code",
   "execution_count": null,
   "metadata": {},
   "outputs": [],
   "source": [
    "# Calculating the area of a square\n",
    "\n",
    "width = 5 \n",
    "\n",
    "area = width**2\n",
    "\n",
    "print(area)"
   ]
  },
  {
   "cell_type": "markdown",
   "metadata": {},
   "source": [
    "### Rounding numbers - round()"
   ]
  },
  {
   "cell_type": "markdown",
   "metadata": {},
   "source": [
    "round() works in a similar way to Excel. \n",
    "\n",
    "```round(2.345)``` will round to a whole number  \n",
    "```round(2.345, 2)``` will round to 2 decimal places  \n",
    "\n",
    "Rounding with round() in Python (and most common programming languages) uses Banker's rounding:  \n",
    "Numbers where the 'last' digit to round is a 5 (like 1.5) are half way between two whole numbers. Excel's round function always rounds up. In Python they are rounded towards the nearest even number. This avoids artificially increasing the overall sum of the values, because some values are increased, and some decreased. \n",
    "\n",
    "|Before rounding|Excel round()|Python round()|\n",
    "|---|---|---|\n",
    "|0.5|1|0|\n",
    "|1.5|2|2|\n",
    "|2.5|3|2|\n",
    "|3.5|4|4|\n"
   ]
  },
  {
   "cell_type": "code",
   "execution_count": null,
   "metadata": {},
   "outputs": [],
   "source": [
    "round(2.345,1)"
   ]
  },
  {
   "cell_type": "code",
   "execution_count": null,
   "metadata": {},
   "outputs": [],
   "source": [
    "round(2.3456,2)"
   ]
  },
  {
   "cell_type": "code",
   "execution_count": null,
   "metadata": {},
   "outputs": [],
   "source": [
    "round(-2.3456,3)"
   ]
  },
  {
   "cell_type": "markdown",
   "metadata": {},
   "source": [
    "#### Ceiling, floor"
   ]
  },
  {
   "cell_type": "markdown",
   "metadata": {},
   "source": [
    "Ceiling and floor work just like in Excel: rounding up or down to the nearest whole number."
   ]
  },
  {
   "cell_type": "code",
   "execution_count": null,
   "metadata": {},
   "outputs": [],
   "source": [
    "import math\n",
    "\n",
    "math.ceil(0.5)"
   ]
  },
  {
   "cell_type": "code",
   "execution_count": null,
   "metadata": {},
   "outputs": [],
   "source": [
    "math.floor(0.5)"
   ]
  },
  {
   "cell_type": "markdown",
   "metadata": {},
   "source": [
    "### If statements (Excel: IF, WENN)\n",
    "\n",
    "In Excel, we have:  \n",
    "```\n",
    "=IF((test); (result if true); (result if false))\n",
    "```\n",
    "```\n",
    "=IF(A1 < 50; \"Slow\"; \"Fast\")\n",
    "```\n",
    "\n",
    "In Python we have:\n",
    "\n",
    "```\n",
    "if (test):\n",
    "    (result if true)\n",
    "else:\n",
    "    (result if false)\n",
    "```\n",
    "\n",
    "For example:"
   ]
  },
  {
   "cell_type": "code",
   "execution_count": null,
   "metadata": {
    "ExecuteTime": {
     "end_time": "2020-02-03T14:44:59.606574Z",
     "start_time": "2020-02-03T14:44:55.768037Z"
    },
    "scrolled": true
   },
   "outputs": [],
   "source": [
    "if top_speed_kmh < 50:\n",
    "    slow_or_fast = \"Slow\"\n",
    "else:\n",
    "    slow_or_fast = \"Fast\"\n",
    "\n",
    "print(slow_or_fast)"
   ]
  },
  {
   "cell_type": "markdown",
   "metadata": {},
   "source": [
    "### Symbols used for logical comparisons\n",
    "\n",
    "| Comparison            | Excel | Python |                                                  |\n",
    "|-----------------------|-------|--------|--------------------------------------------------|\n",
    "| equal to              | =     | ==     | The single = sign is used for setting variables |\n",
    "| not equal to          | <>    | !=     | <> also works in Python                          |\n",
    "| less than             | <     | <      |                                                  |\n",
    "| less than or equal to | <=    | <=     |                                                  |\n",
    "| greater than             | >     | <      |                                                  |\n",
    "| greater than or equal to | >=    | >=     |                                                  |\n",
    "  \n",
    "You can combine multiple conditions using:\n",
    "\n",
    "```and```  \n",
    "```or```   \n",
    "```not``` "
   ]
  },
  {
   "cell_type": "markdown",
   "metadata": {},
   "source": [
    "Here is another if statement, using multiple conditions this time:"
   ]
  },
  {
   "cell_type": "code",
   "execution_count": null,
   "metadata": {},
   "outputs": [],
   "source": [
    "country = \"DE\"\n",
    "age = 18\n",
    "\n",
    "if (country == \"US\" and age>=21) or (country != \"US\" and age >= 18):\n",
    "    print(\"This person can legally drink alcohol!\")\n",
    "else:\n",
    "    print(\"You are either too young or in the wrong country!\")"
   ]
  },
  {
   "cell_type": "markdown",
   "metadata": {},
   "source": [
    "### Elif: say goodbye to nested \"if\" statements\n",
    "\n",
    "elif means \"else if\", and is like using multiple if statements.\n",
    "\n",
    "Maybe you know the horror of managing multiple nested IF statements in Excel: \n",
    "Here we test the top speed of a car to put it in a speed category.\n",
    "\n",
    "```=IF(A1 <= 0; \"not a car\";IF(A1 < 50; \"slow\"; IF(A1 <= 100; \"medium\"; IF(A1 > 100; \"fast\"; \"\"))))```\n",
    "\n",
    "Here is something similar in Python:"
   ]
  },
  {
   "cell_type": "code",
   "execution_count": null,
   "metadata": {},
   "outputs": [],
   "source": [
    "# When you run this code, an input box will appear on your screen\n",
    "\n",
    "car_speed = int(input('Enter the maximum speed of a car in km/h: ')) \n",
    "\n",
    "if car_speed < 0:\n",
    "    print('So, this car can only travel backwards?')\n",
    "elif car_speed == 0:\n",
    "    print('So, this car does not move? Maybe it is not a car.')\n",
    "elif car_speed >= 100:\n",
    "    print('Fast')\n",
    "elif car_speed >= 50:\n",
    "    print('Medium')\n",
    "else:\n",
    "    print('Slow')"
   ]
  },
  {
   "cell_type": "markdown",
   "metadata": {},
   "source": [
    "# Working with tables of data\n",
    "\n",
    "So we've seen how basic coding works, and hopefully shown that it is not too intimidating. We aren't going to use Python to replace a pocket for basic arithmetic though: Where the real power of Python lies is when we need to work with lots of data.\n",
    "\n",
    "In Excel, you often create a formula and then clone it to each cell going down the table.\n",
    "\n",
    "In Python, the Pandas library lets you make changes to entire columns of data with just one line of code.\n",
    "\n",
    "This lets us work with large data sets in a practical way, as manual editing is avoided. We can use Python to combine, transform, filter and summarize data, and then still have the option of saving the final transformed data as an Excel file.\n",
    "\n",
    "- XLS sheets are limited to 65536 rows, 256 columns (not enough rows for many uses)\n",
    "- XLSX sheets are limited to around 1 million rows and 16,000 columns (navigate around your sheet until the end of time!)  \n",
    "- Pandas DataFrames (tables) have no size limit, just the amount of memory in your computer."
   ]
  },
  {
   "cell_type": "markdown",
   "metadata": {},
   "source": [
    "### Loading Data from an Excel File\n",
    "\n",
    "We will now look at importing data from an Excel file, and later on we will modify it and then save it into a new Excel file."
   ]
  },
  {
   "cell_type": "code",
   "execution_count": null,
   "metadata": {},
   "outputs": [],
   "source": [
    "# Import the Pandas library, a Python package which simplifies data analysis and transformation\n",
    "import pandas as pd"
   ]
  },
  {
   "cell_type": "code",
   "execution_count": null,
   "metadata": {},
   "outputs": [],
   "source": [
    "# Floats (decimal numbers) can be displayed rounded with 2 decimal places\n",
    "pd.options.display.float_format = \"{:,.2f}\".format"
   ]
  },
  {
   "cell_type": "code",
   "execution_count": null,
   "metadata": {},
   "outputs": [],
   "source": [
    "# Import your data to a DataFrame format\n",
    "superstore = pd.read_excel(\"data/Sample - Superstore.xls\")"
   ]
  },
  {
   "cell_type": "markdown",
   "metadata": {},
   "source": [
    "### Our table of data is stored in special type of variable called a 'DataFrame'\n",
    "\n",
    "Because our data came from a retail chain called Superstore, we have used the variable name \"superstore\" for the dataframe.\n",
    "\n",
    "By writing the name of the dataframe and dot, e.g. ```superstore.```\n",
    "followed by various different keywords. e.g. ```head()```  \n",
    "we can:\n",
    "- get information about our data\n",
    "- perform actions on our data"
   ]
  },
  {
   "cell_type": "markdown",
   "metadata": {},
   "source": [
    "### Taking a look at a few rows - .head()"
   ]
  },
  {
   "cell_type": "code",
   "execution_count": null,
   "metadata": {},
   "outputs": [],
   "source": [
    "# Using .head(3) the first 3 rows of your dataframe get displayed\n",
    "superstore.head(3)"
   ]
  },
  {
   "cell_type": "markdown",
   "metadata": {},
   "source": [
    "### How large is the table? .shape"
   ]
  },
  {
   "cell_type": "code",
   "execution_count": null,
   "metadata": {},
   "outputs": [],
   "source": [
    "# use the '.shape' attribute to see the number of rows and columns\n",
    "superstore.shape"
   ]
  },
  {
   "cell_type": "markdown",
   "metadata": {},
   "source": [
    "### Getting a statistical summary for each column - describe()"
   ]
  },
  {
   "cell_type": "code",
   "execution_count": null,
   "metadata": {},
   "outputs": [],
   "source": [
    "# the function '.describe' gives you a good overview of the descriptive stats of your numeric columns\n",
    "superstore.describe()"
   ]
  },
  {
   "cell_type": "markdown",
   "metadata": {},
   "source": [
    "### Getting a list of unique values (like 'Remove Duplicates' in Excel)"
   ]
  },
  {
   "cell_type": "code",
   "execution_count": null,
   "metadata": {},
   "outputs": [],
   "source": [
    "# use '.unique' on the Category column to get an overview of your unique product categories\n",
    "superstore['Category'].unique()"
   ]
  },
  {
   "cell_type": "markdown",
   "metadata": {},
   "source": [
    "## Data transformation"
   ]
  },
  {
   "cell_type": "markdown",
   "metadata": {},
   "source": [
    "### Add/remove columns"
   ]
  },
  {
   "cell_type": "markdown",
   "metadata": {},
   "source": [
    "#### Create a new column, based on existing columns"
   ]
  },
  {
   "cell_type": "code",
   "execution_count": null,
   "metadata": {},
   "outputs": [],
   "source": [
    "superstore['Category - Detailed'] = superstore['Category'] + \": \" + superstore['Sub-Category']\n",
    "\n",
    "superstore.head()"
   ]
  },
  {
   "cell_type": "code",
   "execution_count": null,
   "metadata": {},
   "outputs": [],
   "source": [
    "# Try it yourself: create a Profit per unit column, dividing the Profit by the Quantity\n",
    "superstore['Profit per Unit'] = \n",
    "\n",
    "# See what happened\n",
    "superstore.head()"
   ]
  },
  {
   "cell_type": "markdown",
   "metadata": {},
   "source": [
    "#### Remove certain columns - drop()"
   ]
  },
  {
   "cell_type": "code",
   "execution_count": null,
   "metadata": {},
   "outputs": [],
   "source": [
    "# Replace the superstore dataframe with a new version where selected columns have been removed with drop()\n",
    "superstore = superstore.drop(['Ship Date','Ship Mode'], axis=1)"
   ]
  },
  {
   "cell_type": "code",
   "execution_count": null,
   "metadata": {},
   "outputs": [],
   "source": [
    "# Take a look at the new table\n",
    "superstore.head()"
   ]
  },
  {
   "cell_type": "markdown",
   "metadata": {},
   "source": [
    "#### Create a new dataframe, reduced to a selection of columns"
   ]
  },
  {
   "cell_type": "code",
   "execution_count": null,
   "metadata": {},
   "outputs": [],
   "source": [
    "customer_locations = superstore[['Order ID','Customer ID','Country/Region','City']]"
   ]
  },
  {
   "cell_type": "code",
   "execution_count": null,
   "metadata": {},
   "outputs": [],
   "source": [
    "# Take a look at the new table\n",
    "customer_locations.head()"
   ]
  },
  {
   "cell_type": "markdown",
   "metadata": {},
   "source": [
    "### Perform columnwise calculations"
   ]
  },
  {
   "cell_type": "markdown",
   "metadata": {},
   "source": [
    "#### SUM() - Summing a column\n",
    "\n"
   ]
  },
  {
   "cell_type": "code",
   "execution_count": null,
   "metadata": {},
   "outputs": [],
   "source": [
    "superstore[['Sales']].sum()"
   ]
  },
  {
   "cell_type": "markdown",
   "metadata": {},
   "source": [
    "#### MAX(), MIN() - Getting the maximum or minimum value in a column "
   ]
  },
  {
   "cell_type": "code",
   "execution_count": null,
   "metadata": {},
   "outputs": [],
   "source": [
    "superstore[['Sales']].max()"
   ]
  },
  {
   "cell_type": "markdown",
   "metadata": {},
   "source": [
    "## Sorting data"
   ]
  },
  {
   "cell_type": "code",
   "execution_count": null,
   "metadata": {},
   "outputs": [],
   "source": [
    "# Finding our top 3 sales\n",
    "superstore.sort_values(by='Sales', ascending=False).head(3)"
   ]
  },
  {
   "cell_type": "markdown",
   "metadata": {},
   "source": [
    "### Filtering"
   ]
  },
  {
   "cell_type": "markdown",
   "metadata": {},
   "source": [
    "#### Basic filtering"
   ]
  },
  {
   "cell_type": "code",
   "execution_count": null,
   "metadata": {},
   "outputs": [],
   "source": [
    "\n",
    "superstore[(superstore['State'] == 'Florida')].head()"
   ]
  },
  {
   "cell_type": "markdown",
   "metadata": {},
   "source": [
    "#### Filtering based on multiple conditions"
   ]
  },
  {
   "cell_type": "code",
   "execution_count": null,
   "metadata": {},
   "outputs": [],
   "source": [
    "superstore[(superstore['State'] == 'Florida') & (superstore['Discount'] > 0.6) & (superstore['Profit'] < 0)].head()"
   ]
  },
  {
   "cell_type": "markdown",
   "metadata": {},
   "source": [
    "## Pivot Tables\n",
    "\n",
    "Pivot tables are used for aggregating data, or for slicing and grouping according to different categories.\n",
    "\n",
    "We can use the groupby() function, or the pivot_table function, according to the complexity of what we want to achieve."
   ]
  },
  {
   "cell_type": "markdown",
   "metadata": {},
   "source": [
    "### Summarizing data - groupby()"
   ]
  },
  {
   "cell_type": "code",
   "execution_count": null,
   "metadata": {},
   "outputs": [],
   "source": [
    "category_summary = superstore.groupby(['Category','Sub-Category'])[['Sales','Quantity']].sum().reset_index()\n",
    "\n",
    "print(category_summary)"
   ]
  },
  {
   "cell_type": "code",
   "execution_count": null,
   "metadata": {},
   "outputs": [],
   "source": [
    "# Try it for yourself: Find the highest values in the Sales and Profit profit columns, grouping by the 'Order Date'\n",
    "sales_by_date = superstore.groupby(['___'])[['___','___']].max().reset_index()\n",
    "\n",
    "sales_by_date.head()"
   ]
  },
  {
   "cell_type": "markdown",
   "metadata": {},
   "source": [
    "### pd.pivot_table\n",
    "\n",
    "The power of pivot tables in Excel is often in being able to dynamically change filters and rearrange columns to explore data, which we do not have here.\n",
    "\n",
    "However, if we always want to perform the same aggregation on the same columns, then the pd.pivot_table function works well."
   ]
  },
  {
   "cell_type": "code",
   "execution_count": null,
   "metadata": {},
   "outputs": [],
   "source": [
    "# Sales Summary by Category and State\n",
    "\n",
    "pivot_category_sales = pd.pivot_table(\n",
    "    data = superstore, # The dataframe to pivot\n",
    "    index = 'State', # Choose the rows to group by\n",
    "    columns = 'Category', # Choose the columns to group by\n",
    "    values = 'Sales', # Choose the values to aggregate/summarize\n",
    "    aggfunc = 'sum', # Choose the type of aggregation: 'sum', 'mean', 'max', 'min', etc..\n",
    "    # margins = True # Adds totals\n",
    ")\n",
    "\n",
    "print(pivot_category_sales.head(15))"
   ]
  },
  {
   "cell_type": "code",
   "execution_count": null,
   "metadata": {},
   "outputs": [],
   "source": [
    "# Try it for yourself: Summarize the sales and quantities sold by Category and Sub-Category \n",
    "\n",
    "pivot_category_sales = pd.pivot_table(\n",
    "    data = superstore, # The dataframe to pivot\n",
    "    index = ['___','___'], # Choose the columns to group by\n",
    "    values = ['','Quantity'], # Choose the values to aggregate/summarize\n",
    "    aggfunc = '___', # Choose the type of aggregation: 'sum', 'mean', 'max', 'min', etc..\n",
    ")\n",
    "\n",
    "print(pivot_category_sales)"
   ]
  },
  {
   "cell_type": "markdown",
   "metadata": {},
   "source": [
    "## Basic graphs"
   ]
  },
  {
   "cell_type": "code",
   "execution_count": null,
   "metadata": {},
   "outputs": [],
   "source": [
    "sales_by_date.plot()"
   ]
  },
  {
   "cell_type": "code",
   "execution_count": null,
   "metadata": {},
   "outputs": [],
   "source": [
    "pivot_category_sales.plot.bar()"
   ]
  },
  {
   "cell_type": "markdown",
   "metadata": {},
   "source": [
    "## VLOOKUP() / INDEX,MATCH / XLOOKUP"
   ]
  },
  {
   "cell_type": "markdown",
   "metadata": {},
   "source": [
    "In Excel, there are three general use cases for VLOOKUP or INDEX,MATCH.\n",
    "\n",
    "In Python, these are handled by three different functions:\n",
    "\n",
    "| Use case              | Python |                                                  |\n",
    "|-----------------------|--------|--------------------------------------------------|\n",
    "| joining data from two tables   | merge()     |  |\n",
    "| lookup tables         | dictionary + map      |       \n",
    "| to add interactivity  |     | not used in data transformation     |  \n",
    "\n"
   ]
  },
  {
   "cell_type": "markdown",
   "metadata": {},
   "source": [
    "### Joining data from two tables - merge()"
   ]
  },
  {
   "cell_type": "markdown",
   "metadata": {},
   "source": [
    "We often use VLOOKUP, INDEX,MATCH or XLOOKUP to add in a column from another table, using an existing column as a reference number (a key). Often a product code, barcode, but it can be anything, as long as it is in both tables, and consistent.\n",
    "\n",
    "If we want to add a column into our superstore data with the 2 letter state abbreviations of the US state, and we have another table containing the names of the states and their 2 letter codes, then we can use the name of our US state as the key and join the two tables together.\n",
    "\n",
    "The merge function actually includes all columns from both tables: no more copying and modifying your VLOOKUP code for each column."
   ]
  },
  {
   "cell_type": "code",
   "execution_count": null,
   "metadata": {},
   "outputs": [],
   "source": [
    "# first we need to import a CSV with all the US states and their codes into a new dataframe\n",
    "\n",
    "states_to_codes = pd.read_csv(\"data/states_to_codes.csv\", \n",
    "                     #skiprows = 1\n",
    "                     skipinitialspace=True)"
   ]
  },
  {
   "cell_type": "code",
   "execution_count": null,
   "metadata": {},
   "outputs": [],
   "source": [
    "# let's take a look inside\n",
    "states_to_codes.head()"
   ]
  },
  {
   "cell_type": "code",
   "execution_count": null,
   "metadata": {},
   "outputs": [],
   "source": [
    "# left_on and right_on name the columns which contain the common 'key'. \n",
    "# The how='left' means that all of the superstore table is included: the state_code will included where there is a match, or left empty if the name of the state is not found in the states_to_codes table.\n",
    "superstore = superstore.merge(states_to_codes, left_on='State', right_on='State', how='left')\n",
    "\n",
    "# See if it worked\n",
    "superstore.head()"
   ]
  },
  {
   "cell_type": "markdown",
   "metadata": {},
   "source": [
    " ### Lookup tables\n",
    "\n",
    " We can use a dictionary combined with the map() function as a lookup table\n",
    "\n",
    " For example, if we wanted to convert the names of our customer 'Segments' into a different form or make a slightly different categorisation."
   ]
  },
  {
   "cell_type": "code",
   "execution_count": null,
   "metadata": {},
   "outputs": [],
   "source": [
    "# A dictionary customer segments and our new categories. Dictionaries are formatted {'key1':'value2', 'key2','value2'}\n",
    "\n",
    "segments_to_customer_groups = {\n",
    " 'Corporate': 'B2B',\n",
    " 'Consumer': 'Retail',\n",
    " 'Home Office': 'B2B'\n",
    " }"
   ]
  },
  {
   "cell_type": "code",
   "execution_count": null,
   "metadata": {},
   "outputs": [],
   "source": [
    "# Creates a new column State_Code by mapping the keys to the values in the states_to_codes dictionary.\n",
    "superstore['Customer Group'] = superstore['Segment'].map(segments_to_customer_groups)\n"
   ]
  },
  {
   "cell_type": "code",
   "execution_count": null,
   "metadata": {},
   "outputs": [],
   "source": [
    "# Check if it worked\n",
    "superstore['Customer Group']"
   ]
  },
  {
   "cell_type": "markdown",
   "metadata": {},
   "source": [
    "## Export to Excel"
   ]
  },
  {
   "cell_type": "code",
   "execution_count": null,
   "metadata": {},
   "outputs": [],
   "source": [
    "# Creating an empty Excel file\n",
    "from openpyxl import Workbook\n",
    "wb = Workbook()\n",
    "wb.save('data/demo_output_file.xlsx')\n",
    "\n",
    "# Saving some of our dataframes into it as separate sheets\n",
    "with pd.ExcelWriter(\"data/demo_output_file.xlsx\", mode=\"a\", engine=\"openpyxl\") as writer:\n",
    "    pivot_category_sales.to_excel(writer, sheet_name=\"Sales by Category\")\n",
    "    sales_by_date.to_excel(writer, sheet_name=\"Sales by Date\")"
   ]
  }
 ],
 "metadata": {
  "interpreter": {
   "hash": "b89b5cfaba6639976dc87ff2fec6d58faec662063367e2c229c520fe71072417"
  },
  "kernelspec": {
   "display_name": "Python 3.10.4 64-bit",
   "language": "python",
   "name": "python3"
  },
  "language_info": {
   "codemirror_mode": {
    "name": "ipython",
    "version": 3
   },
   "file_extension": ".py",
   "mimetype": "text/x-python",
   "name": "python",
   "nbconvert_exporter": "python",
   "pygments_lexer": "ipython3",
   "version": "3.10.4"
  },
  "orig_nbformat": 4
 },
 "nbformat": 4,
 "nbformat_minor": 2
}
