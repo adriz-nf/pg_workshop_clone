{
 "cells": [
  {
   "cell_type": "markdown",
   "metadata": {},
   "source": [
    "In case you have a Google account, open the file with [Google Colab](https://colab.research.google.com), which \"...  allows anybody to write and execute arbitrary python code.\" [(Source)](https://research.google.com/colaboratory/faq.html)\n",
    "\n",
    "[![Open In Colab](https://colab.research.google.com/assets/colab-badge.svg)](https://colab.research.google.com/github/neuefische/pg_workshop/blob/main/1_Python_for_Excel_Experts.ipynb)"
   ]
  },
  {
   "cell_type": "markdown",
   "metadata": {},
   "source": [
    "# Introduction to Python for Excel Experts"
   ]
  },
  {
   "cell_type": "markdown",
   "metadata": {},
   "source": [
    "Aims of this session: \n",
    "- Demystify programming\n",
    "- Gain first experiences programming in Python\n",
    "- Reduce barriers to changing existing processes and trying out new tools\n",
    "- Realise value and possibilities that Python provides\n",
    "\n",
    "By the end of the session, you will know how to:\n",
    "- Use comments\n",
    "- Import libraries to extend functionality\n",
    "- Work with text\n",
    "- Work with numbers and perform basic arithmetic\n",
    "- Create and work with variables\n",
    "- Use 'if' statements\n",
    "\n",
    "Along with how to:\n",
    "- Import data from Excel/csv files\n",
    "- Work with data in tables\n",
    "- Summarise data\n",
    "- Make basic graphs\n",
    "- Save data to Excel files"
   ]
  },
  {
   "cell_type": "markdown",
   "metadata": {},
   "source": [
    "### Task\n",
    "\n",
    "Carefully read through the documentation, lines of code and execute the code blocks below by using Shift+Enter.  \n",
    "**Note**: The next Notebook will guide you in more detail on how to navigate through Jupyter Notebooks in general. At this point, being able to execute code will be enough.\n"
   ]
  },
  {
   "cell_type": "markdown",
   "metadata": {},
   "source": [
    "## Basic Concepts"
   ]
  },
  {
   "cell_type": "markdown",
   "metadata": {},
   "source": [
    "### Using comments\n",
    "Comments allow us to explain what code is doing, when it isn't clear. \n",
    "\n",
    "Just type #  \n",
    "Everything on the same line after the # will be ignored when the code is run."
   ]
  },
  {
   "cell_type": "code",
   "execution_count": 24,
   "metadata": {},
   "outputs": [
    {
     "name": "stdout",
     "output_type": "stream",
     "text": [
      "3\n"
     ]
    }
   ],
   "source": [
    "# This is a comment\n",
    "print(1 + 2) # This is a comment on the same line as some code\n",
    "\n",
    "# It is also a useful way to 'deactivate' a line of code temporarily\n",
    "# print(1 + 2) "
   ]
  },
  {
   "cell_type": "markdown",
   "metadata": {},
   "source": [
    "### Add new functionality with libraries\n",
    "Python allows us to add new functions by importing external libraries."
   ]
  },
  {
   "cell_type": "code",
   "execution_count": 25,
   "metadata": {},
   "outputs": [
    {
     "ename": "ModuleNotFoundError",
     "evalue": "No module named 'xlrd'",
     "output_type": "error",
     "traceback": [
      "\u001b[0;31m---------------------------------------------------------------------------\u001b[0m",
      "\u001b[0;31mModuleNotFoundError\u001b[0m                       Traceback (most recent call last)",
      "\u001b[0;32m/var/folders/fw/lh9tdp112z91hhrr7t4_bmsm0000gn/T/ipykernel_45407/1146048088.py\u001b[0m in \u001b[0;36m<module>\u001b[0;34m\u001b[0m\n\u001b[1;32m      1\u001b[0m \u001b[0;32mimport\u001b[0m \u001b[0mpandas\u001b[0m \u001b[0;32mas\u001b[0m \u001b[0mpd\u001b[0m     \u001b[0;31m# Pandas lets us work easily with numbers and tables\u001b[0m\u001b[0;34m\u001b[0m\u001b[0;34m\u001b[0m\u001b[0m\n\u001b[1;32m      2\u001b[0m \u001b[0;34m\u001b[0m\u001b[0m\n\u001b[0;32m----> 3\u001b[0;31m \u001b[0;32mimport\u001b[0m \u001b[0mxlrd\u001b[0m     \u001b[0;31m# for importing and exporting Excel files\u001b[0m\u001b[0;34m\u001b[0m\u001b[0;34m\u001b[0m\u001b[0m\n\u001b[0m\u001b[1;32m      4\u001b[0m \u001b[0;34m\u001b[0m\u001b[0m\n\u001b[1;32m      5\u001b[0m \u001b[0;32mimport\u001b[0m \u001b[0mmatplotlib\u001b[0m   \u001b[0;31m# for creating graphs\u001b[0m\u001b[0;34m\u001b[0m\u001b[0;34m\u001b[0m\u001b[0m\n",
      "\u001b[0;31mModuleNotFoundError\u001b[0m: No module named 'xlrd'"
     ]
    }
   ],
   "source": [
    "import pandas as pd     # Pandas lets us work easily with numbers and tables\n",
    "\n",
    "import xlrd     # for importing and exporting Excel files\n",
    "\n",
    "import matplotlib   # for creating graphs"
   ]
  },
  {
   "cell_type": "markdown",
   "metadata": {},
   "source": [
    "### Using variables\n",
    "\n",
    "In Python, using variables is simple, (unlike VBA) there is no need to define them at the start of the code, and no need to set the data type.\n",
    "\n",
    "Just write something like this:\n",
    "\n",
    "```python\n",
    "top_speed_kmh = 75\n",
    "```\n",
    "All you need is:\n",
    "1. a meaningful name for your variable:  __top_speed_kmh__\n",
    "2. an equals sign: __=__ \n",
    "3. what you want to store in the variable (a number or text): __75__"
   ]
  },
  {
   "cell_type": "code",
   "execution_count": null,
   "metadata": {},
   "outputs": [],
   "source": [
    "# How to store a number in a variable\n",
    "top_speed_kmh = 32.7 \n",
    "\n",
    "# Text works the same way, just put a quotation mark before and after\n",
    "car_brand = \"Ford\""
   ]
  },
  {
   "cell_type": "markdown",
   "metadata": {},
   "source": [
    "### Working with text \n",
    "Pieces of text are called strings.\n",
    "Strings are written with apostrophes or quotation marks:\n",
    "\n",
    "```'This is a string'```  \n",
    "```\"This is also a string\"```"
   ]
  },
  {
   "cell_type": "markdown",
   "metadata": {},
   "source": [
    "#### Output to the screen with print()"
   ]
  },
  {
   "cell_type": "markdown",
   "metadata": {},
   "source": [
    "To output to the screen, use ```print()```  \n",
    "\n",
    "Either with a text string directly:"
   ]
  },
  {
   "cell_type": "code",
   "execution_count": null,
   "metadata": {},
   "outputs": [
    {
     "name": "stdout",
     "output_type": "stream",
     "text": [
      "Welcome to the world of Python programming!\n"
     ]
    }
   ],
   "source": [
    "print(\"Welcome to the world of Python programming!\")"
   ]
  },
  {
   "cell_type": "markdown",
   "metadata": {},
   "source": [
    "Or with a variable name, to see what is stored in that variable:"
   ]
  },
  {
   "cell_type": "code",
   "execution_count": null,
   "metadata": {},
   "outputs": [
    {
     "name": "stdout",
     "output_type": "stream",
     "text": [
      "Ford\n"
     ]
    }
   ],
   "source": [
    "print(car_brand)"
   ]
  },
  {
   "cell_type": "markdown",
   "metadata": {},
   "source": [
    "Or both:"
   ]
  },
  {
   "cell_type": "code",
   "execution_count": null,
   "metadata": {},
   "outputs": [
    {
     "name": "stdout",
     "output_type": "stream",
     "text": [
      "Ford is a car brand\n"
     ]
    }
   ],
   "source": [
    "print(car_brand + \" is a car brand\")"
   ]
  },
  {
   "cell_type": "markdown",
   "metadata": {},
   "source": [
    "#### Joining text together (Excel: CONCAT, VERKETTEN)\n",
    "To concatenate text in Excel you would use something like \n",
    "```Excel\n",
    "=CONCAT(A2;\" \";B2) \n",
    "```\n",
    "\n",
    "In Python you just use + signs between strings"
   ]
  },
  {
   "cell_type": "code",
   "execution_count": null,
   "metadata": {},
   "outputs": [
    {
     "name": "stdout",
     "output_type": "stream",
     "text": [
      "Ford Model T\n"
     ]
    }
   ],
   "source": [
    "car_brand = \"Ford\"\n",
    "car_model = \"Model T\"\n",
    "\n",
    "full_car_name = car_brand + \" \" + car_model\n",
    "\n",
    "print(full_car_name)"
   ]
  },
  {
   "cell_type": "markdown",
   "metadata": {},
   "source": [
    "To include numbers, convert them into strings using the str() function:  \n",
    "\n",
    "for example\n",
    "```str(top_speed_kmh)```"
   ]
  },
  {
   "cell_type": "code",
   "execution_count": null,
   "metadata": {},
   "outputs": [
    {
     "name": "stdout",
     "output_type": "stream",
     "text": [
      "The Model T has a top speed of 32.7 km/h\n"
     ]
    }
   ],
   "source": [
    "top_speed_text = \"The \" + car_model + \" has a top speed of \" + str(top_speed_kmh) + \" km/h\"\n",
    "\n",
    "print(top_speed_text)"
   ]
  },
  {
   "cell_type": "markdown",
   "metadata": {},
   "source": [
    "### Mathematical functions\n",
    "\n",
    "Just like in Excel, basic mathematics uses these symbols: + - / * ()"
   ]
  },
  {
   "cell_type": "code",
   "execution_count": null,
   "metadata": {},
   "outputs": [],
   "source": [
    "print(10 + 2)"
   ]
  },
  {
   "cell_type": "code",
   "execution_count": null,
   "metadata": {},
   "outputs": [],
   "source": [
    "# Try out other basic arithmetic functions here\n",
    "\n"
   ]
  },
  {
   "cell_type": "code",
   "execution_count": null,
   "metadata": {},
   "outputs": [],
   "source": [
    "start_position = 12.1\n",
    "end_position = 22\n",
    "time = 51\n",
    "\n",
    "# speed = distance / time\n",
    "speed = (end_position - start_position) / time\n",
    "\n",
    "print(speed)"
   ]
  },
  {
   "cell_type": "markdown",
   "metadata": {},
   "source": [
    "Powers are slightly different to Excel.\n",
    "\n",
    "In Python we use ```**``` for powers, so 5² is 5**2\n",
    "\n",
    "*(Careful: 5^2 will still give a result in Python, but the wrong result!)*"
   ]
  },
  {
   "cell_type": "code",
   "execution_count": null,
   "metadata": {},
   "outputs": [],
   "source": [
    "# this gives a surprising result\n",
    "print(5^2)"
   ]
  },
  {
   "cell_type": "code",
   "execution_count": null,
   "metadata": {},
   "outputs": [],
   "source": [
    "# Calculating the area of a square\n",
    "\n",
    "width = 5 \n",
    "\n",
    "area = width**2\n",
    "\n",
    "print(area)"
   ]
  },
  {
   "cell_type": "markdown",
   "metadata": {},
   "source": [
    "### If statements (Excel: IF, WENN)\n",
    "\n",
    "In Excel, we have:  \n",
    "```Excel\n",
    "=IF((test); (result if true); (result if false))\n",
    "```\n",
    "```Excel\n",
    "=IF(A1 < 50; \"Slow\"; \"Fast\")\n",
    "```\n",
    "\n",
    "In Python we have:\n",
    "\n",
    "```python\n",
    "if (test):\n",
    "    (result if true)\n",
    "else:\n",
    "    (result if false)\n",
    "```\n",
    "\n",
    "For example:"
   ]
  },
  {
   "cell_type": "code",
   "execution_count": null,
   "metadata": {
    "ExecuteTime": {
     "end_time": "2020-02-03T14:44:59.606574Z",
     "start_time": "2020-02-03T14:44:55.768037Z"
    },
    "scrolled": true
   },
   "outputs": [],
   "source": [
    "if top_speed_kmh < 50:\n",
    "    slow_or_fast = \"Slow\"\n",
    "else:\n",
    "    slow_or_fast = \"Fast\"\n",
    "\n",
    "print(slow_or_fast)"
   ]
  },
  {
   "cell_type": "markdown",
   "metadata": {},
   "source": [
    "### Symbols used for logical comparisons\n",
    "\n",
    "| Comparison            | Excel | Python |                                                  |\n",
    "|-----------------------|-------|--------|--------------------------------------------------|\n",
    "| equal to              | =     | ==     | The single = sign is used for setting variables |\n",
    "| not equal to          | <>    | !=     | <> also works in Python                          |\n",
    "| less than             | <     | <      |                                                  |\n",
    "| less than or equal to | <=    | <=     |                                                  |\n",
    "| greater than             | >     | <      |                                                  |\n",
    "| greater than or equal to | >=    | >=     |                                                  |\n",
    "  \n",
    "You can combine multiple conditions using:\n",
    "\n",
    "```and```  \n",
    "```or```   \n",
    "```not``` "
   ]
  },
  {
   "cell_type": "markdown",
   "metadata": {},
   "source": [
    "Here is another if statement, using multiple conditions this time:"
   ]
  },
  {
   "cell_type": "code",
   "execution_count": null,
   "metadata": {},
   "outputs": [
    {
     "name": "stdout",
     "output_type": "stream",
     "text": [
      "This person can legally drink alcohol!\n"
     ]
    }
   ],
   "source": [
    "country = \"DE\"\n",
    "age = 18\n",
    "\n",
    "if (country == \"US\" and age>=21) or (country != \"US\" and age >= 18):\n",
    "    print(\"This person can legally drink alcohol!\")\n",
    "else:\n",
    "    print(\"You are either too young or in the wrong country!\")"
   ]
  },
  {
   "cell_type": "markdown",
   "metadata": {},
   "source": [
    "### Elif: say goodbye to nested \"if\" statements\n",
    "\n",
    "elif means \"else if\", and is like using multiple if statements.\n",
    "\n",
    "Maybe you know the horror of managing multiple nested IF statements in Excel: \n",
    "Here we test the top speed of a car to put it in a speed category.\n",
    "\n",
    "```Excel\n",
    "=IF(A1 <= 0; \"not a car\";IF(A1 < 50; \"slow\"; IF(A1 <= 100; \"medium\"; IF(A1 > 100; \"fast\"; \"\"))))\n",
    "```\n",
    "\n",
    "Here is something similar in Python:"
   ]
  },
  {
   "cell_type": "code",
   "execution_count": null,
   "metadata": {},
   "outputs": [],
   "source": [
    "# When you run this code, an input box will appear on your screen\n",
    "\n",
    "car_speed = int(input('Enter the maximum speed of a car in km/h: ')) \n",
    "\n",
    "if car_speed < 0:\n",
    "    print('So, this car can only travel backwards?')\n",
    "elif car_speed == 0:\n",
    "    print('So, this car does not move? Maybe it is not a car.')\n",
    "elif car_speed >= 100:\n",
    "    print('Fast')\n",
    "elif car_speed >= 50:\n",
    "    print('Medium')\n",
    "else:\n",
    "    print('Slow')"
   ]
  },
  {
   "cell_type": "markdown",
   "metadata": {},
   "source": [
    "# Working with tables of data\n",
    "\n",
    "So we've seen how basic coding works, and hopefully shown that it is not too intimidating. We aren't going to use Python to replace a pocket for basic arithmetic though: Where the real power of Python lies is when we need to work with lots of data.\n",
    "\n",
    "In Excel, you often create a formula and then clone it to each cell going down the table.\n",
    "\n",
    "In Python, the Pandas library lets you make changes to entire columns of data with just one line of code.\n",
    "\n",
    "This lets us work with large data sets in a practical way, as manual editing is avoided. We can use Python to combine, transform, filter and summarize data, and then still have the option of saving the final transformed data as an Excel file.\n",
    "\n",
    "- XLS sheets are limited to 65536 rows, 256 columns (not enough rows for many uses)\n",
    "- XLSX sheets are limited to around 1 million rows and 16,000 columns (navigate around your sheet until the end of time!)  \n",
    "- Pandas DataFrames (tables) have no size limit, just the amount of memory in your computer."
   ]
  },
  {
   "cell_type": "markdown",
   "metadata": {},
   "source": [
    "### Loading Data \n",
    "\n",
    "We will now look at importing data from a csv file, and later on we will modify it and then save it into a Excel file."
   ]
  },
  {
   "cell_type": "code",
   "execution_count": null,
   "metadata": {},
   "outputs": [],
   "source": [
    "# Import the Pandas library, a Python package which simplifies data analysis and transformation\n",
    "import pandas as pd"
   ]
  },
  {
   "cell_type": "code",
   "execution_count": null,
   "metadata": {},
   "outputs": [],
   "source": [
    "# Floats (decimal numbers) can be displayed rounded with 2 decimal places\n",
    "pd.options.display.float_format = \"{:,.2f}\".format"
   ]
  },
  {
   "cell_type": "code",
   "execution_count": null,
   "metadata": {},
   "outputs": [],
   "source": [
    "# Import your data via URL to a DataFrame format\n",
    "url = \"https://raw.githubusercontent.com/neuefische/pg_workshop/main/data/orders_data.csv\"\n",
    "orders = pd.read_csv(url)"
   ]
  },
  {
   "cell_type": "markdown",
   "metadata": {},
   "source": [
    "Of course you can also load files from your local machine by specifying the path within the ```read``` method. For loading excel files, you would use ```pd.read_excel()```."
   ]
  },
  {
   "cell_type": "markdown",
   "metadata": {},
   "source": [
    "### Our table of data is stored in special type of variable called a 'DataFrame'\n",
    "\n",
    "Because our data contains various orders and details on that orders, we have used the variable name \"orders\" for the dataframe.\n",
    "\n",
    "By writing the name of the dataframe and dot, e.g. ```orders.```\n",
    "followed by various different keywords. e.g. ```head()```  \n",
    "we can:\n",
    "- get information about our data\n",
    "- perform actions on our data"
   ]
  },
  {
   "cell_type": "markdown",
   "metadata": {},
   "source": [
    "### Taking a look at a few rows - .head()"
   ]
  },
  {
   "cell_type": "code",
   "execution_count": null,
   "metadata": {},
   "outputs": [
    {
     "data": {
      "text/html": [
       "<div>\n",
       "<style scoped>\n",
       "    .dataframe tbody tr th:only-of-type {\n",
       "        vertical-align: middle;\n",
       "    }\n",
       "\n",
       "    .dataframe tbody tr th {\n",
       "        vertical-align: top;\n",
       "    }\n",
       "\n",
       "    .dataframe thead th {\n",
       "        text-align: right;\n",
       "    }\n",
       "</style>\n",
       "<table border=\"1\" class=\"dataframe\">\n",
       "  <thead>\n",
       "    <tr style=\"text-align: right;\">\n",
       "      <th></th>\n",
       "      <th>Order_ID</th>\n",
       "      <th>Order_Date</th>\n",
       "      <th>Ship_Date</th>\n",
       "      <th>Ship_Mode</th>\n",
       "      <th>Customer_ID</th>\n",
       "      <th>Country/Region</th>\n",
       "      <th>City</th>\n",
       "      <th>State</th>\n",
       "      <th>Region</th>\n",
       "      <th>Product_ID</th>\n",
       "      <th>Category</th>\n",
       "      <th>Sub_Category</th>\n",
       "      <th>Product_Name</th>\n",
       "      <th>Sales</th>\n",
       "      <th>Quantity</th>\n",
       "      <th>Discount</th>\n",
       "      <th>Profit</th>\n",
       "    </tr>\n",
       "  </thead>\n",
       "  <tbody>\n",
       "    <tr>\n",
       "      <th>0</th>\n",
       "      <td>CA-2020-152156</td>\n",
       "      <td>2020-11-08 00:00:00</td>\n",
       "      <td>2020-11-11 00:00:00</td>\n",
       "      <td>Second Class</td>\n",
       "      <td>CG-12520</td>\n",
       "      <td>United States</td>\n",
       "      <td>Henderson</td>\n",
       "      <td>Kentucky</td>\n",
       "      <td>South</td>\n",
       "      <td>FUR-BO-10001798</td>\n",
       "      <td>Furniture</td>\n",
       "      <td>Bookcases</td>\n",
       "      <td>Bush Somerset Collection Bookcase</td>\n",
       "      <td>261.96</td>\n",
       "      <td>2</td>\n",
       "      <td>0.00</td>\n",
       "      <td>41.91</td>\n",
       "    </tr>\n",
       "    <tr>\n",
       "      <th>1</th>\n",
       "      <td>CA-2020-152156</td>\n",
       "      <td>2020-11-08 00:00:00</td>\n",
       "      <td>2020-11-11 00:00:00</td>\n",
       "      <td>Second Class</td>\n",
       "      <td>CG-12520</td>\n",
       "      <td>United States</td>\n",
       "      <td>Henderson</td>\n",
       "      <td>Kentucky</td>\n",
       "      <td>South</td>\n",
       "      <td>FUR-CH-10000454</td>\n",
       "      <td>Furniture</td>\n",
       "      <td>Chairs</td>\n",
       "      <td>Hon Deluxe Fabric Upholstered Stacking Chairs,...</td>\n",
       "      <td>731.94</td>\n",
       "      <td>3</td>\n",
       "      <td>0.00</td>\n",
       "      <td>219.58</td>\n",
       "    </tr>\n",
       "    <tr>\n",
       "      <th>2</th>\n",
       "      <td>CA-2020-138688</td>\n",
       "      <td>2020-06-12 00:00:00</td>\n",
       "      <td>2020-06-16 00:00:00</td>\n",
       "      <td>Second Class</td>\n",
       "      <td>DV-13045</td>\n",
       "      <td>United States</td>\n",
       "      <td>Los Angeles</td>\n",
       "      <td>California</td>\n",
       "      <td>West</td>\n",
       "      <td>OFF-LA-10000240</td>\n",
       "      <td>Office Supplies</td>\n",
       "      <td>Labels</td>\n",
       "      <td>Self-Adhesive Address Labels for Typewriters b...</td>\n",
       "      <td>14.62</td>\n",
       "      <td>2</td>\n",
       "      <td>0.00</td>\n",
       "      <td>6.87</td>\n",
       "    </tr>\n",
       "  </tbody>\n",
       "</table>\n",
       "</div>"
      ],
      "text/plain": [
       "         Order_ID           Order_Date            Ship_Date     Ship_Mode  \\\n",
       "0  CA-2020-152156  2020-11-08 00:00:00  2020-11-11 00:00:00  Second Class   \n",
       "1  CA-2020-152156  2020-11-08 00:00:00  2020-11-11 00:00:00  Second Class   \n",
       "2  CA-2020-138688  2020-06-12 00:00:00  2020-06-16 00:00:00  Second Class   \n",
       "\n",
       "  Customer_ID Country/Region         City       State Region       Product_ID  \\\n",
       "0    CG-12520  United States    Henderson    Kentucky  South  FUR-BO-10001798   \n",
       "1    CG-12520  United States    Henderson    Kentucky  South  FUR-CH-10000454   \n",
       "2    DV-13045  United States  Los Angeles  California   West  OFF-LA-10000240   \n",
       "\n",
       "          Category Sub_Category  \\\n",
       "0        Furniture    Bookcases   \n",
       "1        Furniture       Chairs   \n",
       "2  Office Supplies       Labels   \n",
       "\n",
       "                                        Product_Name  Sales  Quantity  \\\n",
       "0                  Bush Somerset Collection Bookcase 261.96         2   \n",
       "1  Hon Deluxe Fabric Upholstered Stacking Chairs,... 731.94         3   \n",
       "2  Self-Adhesive Address Labels for Typewriters b...  14.62         2   \n",
       "\n",
       "   Discount  Profit  \n",
       "0      0.00   41.91  \n",
       "1      0.00  219.58  \n",
       "2      0.00    6.87  "
      ]
     },
     "execution_count": 16,
     "metadata": {},
     "output_type": "execute_result"
    }
   ],
   "source": [
    "# Using .head(3) the first 3 rows of your dataframe get displayed\n",
    "orders.head(3)"
   ]
  },
  {
   "cell_type": "markdown",
   "metadata": {},
   "source": [
    "### How large is the table? .shape"
   ]
  },
  {
   "cell_type": "code",
   "execution_count": null,
   "metadata": {},
   "outputs": [],
   "source": [
    "# use the '.shape' attribute to see the number of rows and columns\n",
    "orders.shape"
   ]
  },
  {
   "cell_type": "markdown",
   "metadata": {},
   "source": [
    "### Getting a statistical summary for each numerical column - describe()"
   ]
  },
  {
   "cell_type": "code",
   "execution_count": null,
   "metadata": {},
   "outputs": [],
   "source": [
    "# the function '.describe' gives you a good overview of the descriptive stats of your numeric columns\n",
    "orders.describe()"
   ]
  },
  {
   "cell_type": "markdown",
   "metadata": {},
   "source": [
    "### Getting a list of unique values (like 'Remove Duplicates' in Excel)"
   ]
  },
  {
   "cell_type": "code",
   "execution_count": null,
   "metadata": {},
   "outputs": [],
   "source": [
    "# use '.unique' on the Category column to get an overview of your unique product categories\n",
    "orders['Category'].unique()"
   ]
  },
  {
   "cell_type": "markdown",
   "metadata": {},
   "source": [
    "## Data transformation"
   ]
  },
  {
   "cell_type": "markdown",
   "metadata": {},
   "source": [
    "### Add/remove columns"
   ]
  },
  {
   "cell_type": "markdown",
   "metadata": {},
   "source": [
    "#### Create a new column, based on existing columns"
   ]
  },
  {
   "cell_type": "code",
   "execution_count": null,
   "metadata": {},
   "outputs": [],
   "source": [
    "orders['Category - Detailed'] = orders['Category'] + \": \" + orders['Sub_Category']\n",
    "\n",
    "orders.head()"
   ]
  },
  {
   "cell_type": "code",
   "execution_count": null,
   "metadata": {},
   "outputs": [],
   "source": [
    "# Try it yourself: create a Profit per unit column, dividing the Profit by the Quantity\n",
    "orders['Profit per Unit'] = \n",
    "\n",
    "# See what happened\n",
    "orders.head()"
   ]
  },
  {
   "cell_type": "markdown",
   "metadata": {},
   "source": [
    "#### Remove certain columns - drop()"
   ]
  },
  {
   "cell_type": "code",
   "execution_count": null,
   "metadata": {},
   "outputs": [],
   "source": [
    "# Replace the orders dataframe with a new version where selected columns have been removed with drop()\n",
    "orders = orders.drop(['Ship_Date','Ship_Mode'], axis=1)"
   ]
  },
  {
   "cell_type": "code",
   "execution_count": null,
   "metadata": {},
   "outputs": [],
   "source": [
    "# Take a look at the new table\n",
    "orders.head()"
   ]
  },
  {
   "cell_type": "markdown",
   "metadata": {},
   "source": [
    "#### Create a new dataframe, reduced to a selection of columns"
   ]
  },
  {
   "cell_type": "code",
   "execution_count": null,
   "metadata": {},
   "outputs": [],
   "source": [
    "customer_locations = orders[['Order_ID','Customer_ID','Country/Region','City']]"
   ]
  },
  {
   "cell_type": "code",
   "execution_count": null,
   "metadata": {},
   "outputs": [],
   "source": [
    "# Take a look at the new table\n",
    "customer_locations.head()"
   ]
  },
  {
   "cell_type": "markdown",
   "metadata": {},
   "source": [
    "### Perform columnwise calculations"
   ]
  },
  {
   "cell_type": "markdown",
   "metadata": {},
   "source": [
    "#### SUM() - Summing a column\n",
    "\n"
   ]
  },
  {
   "cell_type": "code",
   "execution_count": null,
   "metadata": {},
   "outputs": [],
   "source": [
    "orders[['Sales']].sum()"
   ]
  },
  {
   "cell_type": "markdown",
   "metadata": {},
   "source": [
    "#### MAX(), MIN() - Getting the maximum or minimum value in a column "
   ]
  },
  {
   "cell_type": "code",
   "execution_count": null,
   "metadata": {},
   "outputs": [],
   "source": [
    "orders[['Sales']].max()"
   ]
  },
  {
   "cell_type": "code",
   "execution_count": null,
   "metadata": {},
   "outputs": [],
   "source": [
    "#Try out min() yourself!\n"
   ]
  },
  {
   "cell_type": "markdown",
   "metadata": {},
   "source": [
    "## Sorting data"
   ]
  },
  {
   "cell_type": "code",
   "execution_count": null,
   "metadata": {},
   "outputs": [],
   "source": [
    "# Finding our top 3 sales\n",
    "orders.sort_values(by='Sales', ascending=False).head(3)"
   ]
  },
  {
   "cell_type": "markdown",
   "metadata": {},
   "source": [
    "### Filtering"
   ]
  },
  {
   "cell_type": "markdown",
   "metadata": {},
   "source": [
    "#### Basic filtering"
   ]
  },
  {
   "cell_type": "code",
   "execution_count": null,
   "metadata": {},
   "outputs": [],
   "source": [
    "\n",
    "orders[(orders['State'] == 'Florida')].head()"
   ]
  },
  {
   "cell_type": "markdown",
   "metadata": {},
   "source": [
    "#### Filtering based on multiple conditions"
   ]
  },
  {
   "cell_type": "code",
   "execution_count": null,
   "metadata": {},
   "outputs": [],
   "source": [
    "orders[(orders['State'] == 'Florida') & (orders['Discount'] > 0.6) & (orders['Profit'] < 0)].head()"
   ]
  },
  {
   "cell_type": "markdown",
   "metadata": {},
   "source": [
    "## Pivot Tables\n",
    "\n",
    "Pivot tables are used for aggregating data, or for slicing and grouping according to different categories.\n",
    "\n",
    "We can use the groupby() function, or the pivot_table function, according to the complexity of what we want to achieve."
   ]
  },
  {
   "cell_type": "markdown",
   "metadata": {},
   "source": [
    "### Summarizing data - groupby()"
   ]
  },
  {
   "cell_type": "code",
   "execution_count": null,
   "metadata": {},
   "outputs": [],
   "source": [
    "category_summary = orders.groupby(['Category','Sub_Category'])[['Sales','Quantity']].sum().reset_index()\n",
    "\n",
    "print(category_summary)"
   ]
  },
  {
   "cell_type": "code",
   "execution_count": null,
   "metadata": {},
   "outputs": [],
   "source": [
    "# Try it for yourself: Find the highest values in the Sales and Profit profit columns, grouping by the 'Order Date'\n",
    "sales_by_date = orders.groupby(['___'])[['___','___']].max().reset_index()\n",
    "\n",
    "sales_by_date.head()"
   ]
  },
  {
   "cell_type": "markdown",
   "metadata": {},
   "source": [
    "### pd.pivot_table\n",
    "\n",
    "The power of pivot tables in Excel is often in being able to dynamically change filters and rearrange columns to explore data, which we do not have here.\n",
    "\n",
    "However, if we always want to perform the same aggregation on the same columns, then the pd.pivot_table function works well."
   ]
  },
  {
   "cell_type": "code",
   "execution_count": null,
   "metadata": {},
   "outputs": [],
   "source": [
    "# Sales Summary by Category and State\n",
    "\n",
    "pivot_category_sales = pd.pivot_table(\n",
    "    data = orders, # The dataframe to pivot\n",
    "    index = 'State', # Choose the rows to group by\n",
    "    columns = 'Category', # Choose the columns to group by\n",
    "    values = 'Sales', # Choose the values to aggregate/summarize\n",
    "    aggfunc = 'sum', # Choose the type of aggregation: 'sum', 'mean', 'max', 'min', etc..\n",
    "    # margins = True # Adds totals\n",
    ")\n",
    "\n",
    "print(pivot_category_sales.head(15))"
   ]
  },
  {
   "cell_type": "code",
   "execution_count": null,
   "metadata": {},
   "outputs": [],
   "source": [
    "# Try it for yourself: Summarize the sales and quantities sold by Category and Sub-Category \n",
    "\n",
    "pivot_category_sales = pd.pivot_table(\n",
    "    data = orders, # The dataframe to pivot\n",
    "    index = '___', # Choose the columns to group by\n",
    "    values = '____', # Choose the values to aggregate/summarize\n",
    "    aggfunc = '___', # Choose the type of aggregation: 'sum', 'mean', 'max', 'min', etc..\n",
    ")\n",
    "\n",
    "print(pivot_category_sales)"
   ]
  },
  {
   "cell_type": "markdown",
   "metadata": {},
   "source": [
    "## Basic graphs"
   ]
  },
  {
   "cell_type": "code",
   "execution_count": null,
   "metadata": {},
   "outputs": [],
   "source": [
    "sales_by_date.plot()"
   ]
  },
  {
   "cell_type": "code",
   "execution_count": null,
   "metadata": {},
   "outputs": [],
   "source": [
    "pivot_category_sales.plot.bar()"
   ]
  },
  {
   "cell_type": "markdown",
   "metadata": {},
   "source": [
    "## VLOOKUP() / INDEX,MATCH / XLOOKUP"
   ]
  },
  {
   "cell_type": "markdown",
   "metadata": {},
   "source": [
    "In Excel, there are three general use cases for VLOOKUP or INDEX,MATCH.\n",
    "\n",
    "In Python, these are handled by three different functions:\n",
    "\n",
    "| Use case              | Python |                                                  |\n",
    "|-----------------------|--------|--------------------------------------------------|\n",
    "| joining data from two tables   | merge()     |  |\n",
    "| lookup tables         | dictionary + map      |       \n",
    "| to add interactivity  |     | not used in data transformation     |  \n",
    "\n"
   ]
  },
  {
   "cell_type": "markdown",
   "metadata": {},
   "source": [
    "### Joining data from two tables - merge()"
   ]
  },
  {
   "cell_type": "markdown",
   "metadata": {},
   "source": [
    "We often use VLOOKUP, INDEX,MATCH or XLOOKUP to add in a column from another table, using an existing column as a reference number (a key). Often a product code, barcode, but it can be anything, as long as it is in both tables, and consistent.\n",
    "\n",
    "If we want to add a column into our orders data with the 2 letter state abbreviations of the US state, and we have another table containing the names of the states and their 2 letter codes, then we can use the name of our US state as the key and join the two tables together.\n",
    "\n",
    "The merge function actually includes all columns from both tables: no more copying and modifying your VLOOKUP code for each column."
   ]
  },
  {
   "cell_type": "code",
   "execution_count": null,
   "metadata": {},
   "outputs": [],
   "source": [
    "# first we need to import a CSV with all the US states and their codes into a new dataframe\n",
    "\n",
    "states_to_codes = pd.read_csv(\"https://raw.githubusercontent.com/neuefische/pg_workshop/main/data/states_to_codes.csv\", \n",
    "                     #skiprows = 1\n",
    "                     skipinitialspace=True)"
   ]
  },
  {
   "cell_type": "code",
   "execution_count": null,
   "metadata": {},
   "outputs": [
    {
     "data": {
      "text/html": [
       "<div>\n",
       "<style scoped>\n",
       "    .dataframe tbody tr th:only-of-type {\n",
       "        vertical-align: middle;\n",
       "    }\n",
       "\n",
       "    .dataframe tbody tr th {\n",
       "        vertical-align: top;\n",
       "    }\n",
       "\n",
       "    .dataframe thead th {\n",
       "        text-align: right;\n",
       "    }\n",
       "</style>\n",
       "<table border=\"1\" class=\"dataframe\">\n",
       "  <thead>\n",
       "    <tr style=\"text-align: right;\">\n",
       "      <th></th>\n",
       "      <th>State</th>\n",
       "      <th>State Code</th>\n",
       "    </tr>\n",
       "  </thead>\n",
       "  <tbody>\n",
       "    <tr>\n",
       "      <th>0</th>\n",
       "      <td>Alaska</td>\n",
       "      <td>AK</td>\n",
       "    </tr>\n",
       "    <tr>\n",
       "      <th>1</th>\n",
       "      <td>Alabama</td>\n",
       "      <td>AL</td>\n",
       "    </tr>\n",
       "    <tr>\n",
       "      <th>2</th>\n",
       "      <td>Arkansas</td>\n",
       "      <td>AR</td>\n",
       "    </tr>\n",
       "    <tr>\n",
       "      <th>3</th>\n",
       "      <td>Arizona</td>\n",
       "      <td>AZ</td>\n",
       "    </tr>\n",
       "    <tr>\n",
       "      <th>4</th>\n",
       "      <td>California</td>\n",
       "      <td>CA</td>\n",
       "    </tr>\n",
       "  </tbody>\n",
       "</table>\n",
       "</div>"
      ],
      "text/plain": [
       "        State State Code\n",
       "0      Alaska         AK\n",
       "1     Alabama         AL\n",
       "2    Arkansas         AR\n",
       "3     Arizona         AZ\n",
       "4  California         CA"
      ]
     },
     "execution_count": 22,
     "metadata": {},
     "output_type": "execute_result"
    }
   ],
   "source": [
    "# let's take a look inside\n",
    "states_to_codes.head()"
   ]
  },
  {
   "cell_type": "code",
   "execution_count": null,
   "metadata": {},
   "outputs": [
    {
     "data": {
      "text/html": [
       "<div>\n",
       "<style scoped>\n",
       "    .dataframe tbody tr th:only-of-type {\n",
       "        vertical-align: middle;\n",
       "    }\n",
       "\n",
       "    .dataframe tbody tr th {\n",
       "        vertical-align: top;\n",
       "    }\n",
       "\n",
       "    .dataframe thead th {\n",
       "        text-align: right;\n",
       "    }\n",
       "</style>\n",
       "<table border=\"1\" class=\"dataframe\">\n",
       "  <thead>\n",
       "    <tr style=\"text-align: right;\">\n",
       "      <th></th>\n",
       "      <th>Order_ID</th>\n",
       "      <th>Order_Date</th>\n",
       "      <th>Ship_Date</th>\n",
       "      <th>Ship_Mode</th>\n",
       "      <th>Customer_ID</th>\n",
       "      <th>Country/Region</th>\n",
       "      <th>City</th>\n",
       "      <th>State</th>\n",
       "      <th>Region</th>\n",
       "      <th>Product_ID</th>\n",
       "      <th>Category</th>\n",
       "      <th>Sub_Category</th>\n",
       "      <th>Product_Name</th>\n",
       "      <th>Sales</th>\n",
       "      <th>Quantity</th>\n",
       "      <th>Discount</th>\n",
       "      <th>Profit</th>\n",
       "      <th>State Code</th>\n",
       "    </tr>\n",
       "  </thead>\n",
       "  <tbody>\n",
       "    <tr>\n",
       "      <th>0</th>\n",
       "      <td>CA-2020-152156</td>\n",
       "      <td>2020-11-08 00:00:00</td>\n",
       "      <td>2020-11-11 00:00:00</td>\n",
       "      <td>Second Class</td>\n",
       "      <td>CG-12520</td>\n",
       "      <td>United States</td>\n",
       "      <td>Henderson</td>\n",
       "      <td>Kentucky</td>\n",
       "      <td>South</td>\n",
       "      <td>FUR-BO-10001798</td>\n",
       "      <td>Furniture</td>\n",
       "      <td>Bookcases</td>\n",
       "      <td>Bush Somerset Collection Bookcase</td>\n",
       "      <td>261.96</td>\n",
       "      <td>2</td>\n",
       "      <td>0.00</td>\n",
       "      <td>41.91</td>\n",
       "      <td>KY</td>\n",
       "    </tr>\n",
       "    <tr>\n",
       "      <th>1</th>\n",
       "      <td>CA-2020-152156</td>\n",
       "      <td>2020-11-08 00:00:00</td>\n",
       "      <td>2020-11-11 00:00:00</td>\n",
       "      <td>Second Class</td>\n",
       "      <td>CG-12520</td>\n",
       "      <td>United States</td>\n",
       "      <td>Henderson</td>\n",
       "      <td>Kentucky</td>\n",
       "      <td>South</td>\n",
       "      <td>FUR-CH-10000454</td>\n",
       "      <td>Furniture</td>\n",
       "      <td>Chairs</td>\n",
       "      <td>Hon Deluxe Fabric Upholstered Stacking Chairs,...</td>\n",
       "      <td>731.94</td>\n",
       "      <td>3</td>\n",
       "      <td>0.00</td>\n",
       "      <td>219.58</td>\n",
       "      <td>KY</td>\n",
       "    </tr>\n",
       "    <tr>\n",
       "      <th>2</th>\n",
       "      <td>CA-2020-138688</td>\n",
       "      <td>2020-06-12 00:00:00</td>\n",
       "      <td>2020-06-16 00:00:00</td>\n",
       "      <td>Second Class</td>\n",
       "      <td>DV-13045</td>\n",
       "      <td>United States</td>\n",
       "      <td>Los Angeles</td>\n",
       "      <td>California</td>\n",
       "      <td>West</td>\n",
       "      <td>OFF-LA-10000240</td>\n",
       "      <td>Office Supplies</td>\n",
       "      <td>Labels</td>\n",
       "      <td>Self-Adhesive Address Labels for Typewriters b...</td>\n",
       "      <td>14.62</td>\n",
       "      <td>2</td>\n",
       "      <td>0.00</td>\n",
       "      <td>6.87</td>\n",
       "      <td>CA</td>\n",
       "    </tr>\n",
       "    <tr>\n",
       "      <th>3</th>\n",
       "      <td>US-2019-108966</td>\n",
       "      <td>2019-10-11 00:00:00</td>\n",
       "      <td>2019-10-18 00:00:00</td>\n",
       "      <td>Standard Class</td>\n",
       "      <td>SO-20335</td>\n",
       "      <td>United States</td>\n",
       "      <td>Fort Lauderdale</td>\n",
       "      <td>Florida</td>\n",
       "      <td>South</td>\n",
       "      <td>FUR-TA-10000577</td>\n",
       "      <td>Furniture</td>\n",
       "      <td>Tables</td>\n",
       "      <td>Bretford CR4500 Series Slim Rectangular Table</td>\n",
       "      <td>957.58</td>\n",
       "      <td>5</td>\n",
       "      <td>0.45</td>\n",
       "      <td>-383.03</td>\n",
       "      <td>FL</td>\n",
       "    </tr>\n",
       "    <tr>\n",
       "      <th>4</th>\n",
       "      <td>US-2019-108966</td>\n",
       "      <td>2019-10-11 00:00:00</td>\n",
       "      <td>2019-10-18 00:00:00</td>\n",
       "      <td>Standard Class</td>\n",
       "      <td>SO-20335</td>\n",
       "      <td>United States</td>\n",
       "      <td>Fort Lauderdale</td>\n",
       "      <td>Florida</td>\n",
       "      <td>South</td>\n",
       "      <td>OFF-ST-10000760</td>\n",
       "      <td>Office Supplies</td>\n",
       "      <td>Storage</td>\n",
       "      <td>Eldon Fold 'N Roll Cart System</td>\n",
       "      <td>22.37</td>\n",
       "      <td>2</td>\n",
       "      <td>0.20</td>\n",
       "      <td>2.52</td>\n",
       "      <td>FL</td>\n",
       "    </tr>\n",
       "  </tbody>\n",
       "</table>\n",
       "</div>"
      ],
      "text/plain": [
       "         Order_ID           Order_Date            Ship_Date       Ship_Mode  \\\n",
       "0  CA-2020-152156  2020-11-08 00:00:00  2020-11-11 00:00:00    Second Class   \n",
       "1  CA-2020-152156  2020-11-08 00:00:00  2020-11-11 00:00:00    Second Class   \n",
       "2  CA-2020-138688  2020-06-12 00:00:00  2020-06-16 00:00:00    Second Class   \n",
       "3  US-2019-108966  2019-10-11 00:00:00  2019-10-18 00:00:00  Standard Class   \n",
       "4  US-2019-108966  2019-10-11 00:00:00  2019-10-18 00:00:00  Standard Class   \n",
       "\n",
       "  Customer_ID Country/Region             City       State Region  \\\n",
       "0    CG-12520  United States        Henderson    Kentucky  South   \n",
       "1    CG-12520  United States        Henderson    Kentucky  South   \n",
       "2    DV-13045  United States      Los Angeles  California   West   \n",
       "3    SO-20335  United States  Fort Lauderdale     Florida  South   \n",
       "4    SO-20335  United States  Fort Lauderdale     Florida  South   \n",
       "\n",
       "        Product_ID         Category Sub_Category  \\\n",
       "0  FUR-BO-10001798        Furniture    Bookcases   \n",
       "1  FUR-CH-10000454        Furniture       Chairs   \n",
       "2  OFF-LA-10000240  Office Supplies       Labels   \n",
       "3  FUR-TA-10000577        Furniture       Tables   \n",
       "4  OFF-ST-10000760  Office Supplies      Storage   \n",
       "\n",
       "                                        Product_Name  Sales  Quantity  \\\n",
       "0                  Bush Somerset Collection Bookcase 261.96         2   \n",
       "1  Hon Deluxe Fabric Upholstered Stacking Chairs,... 731.94         3   \n",
       "2  Self-Adhesive Address Labels for Typewriters b...  14.62         2   \n",
       "3      Bretford CR4500 Series Slim Rectangular Table 957.58         5   \n",
       "4                     Eldon Fold 'N Roll Cart System  22.37         2   \n",
       "\n",
       "   Discount  Profit State Code  \n",
       "0      0.00   41.91         KY  \n",
       "1      0.00  219.58         KY  \n",
       "2      0.00    6.87         CA  \n",
       "3      0.45 -383.03         FL  \n",
       "4      0.20    2.52         FL  "
      ]
     },
     "execution_count": 23,
     "metadata": {},
     "output_type": "execute_result"
    }
   ],
   "source": [
    "# left_on and right_on name the columns which contain the common 'key'. \n",
    "# The how='left' means that all of the orders table is included: the state_code will included where there is a match, or left empty if the name of the state is not found in the states_to_codes table.\n",
    "orders = orders.merge(states_to_codes, left_on='State', right_on='State', how='left')\n",
    "\n",
    "# See if it worked\n",
    "orders.head()"
   ]
  },
  {
   "cell_type": "markdown",
   "metadata": {},
   "source": [
    " ### Lookup tables\n",
    "\n",
    " We can use a dictionary combined with the map() function as a lookup table\n",
    "\n",
    " For example, if we wanted to convert the names of our customer 'Segments' into a different form or make a slightly different categorisation."
   ]
  },
  {
   "cell_type": "code",
   "execution_count": null,
   "metadata": {},
   "outputs": [],
   "source": [
    "# A dictionary customer segments and our new categories. Dictionaries are formatted {'key1':'value2', 'key2','value2'}\n",
    "\n",
    "segments_to_customer_groups = {\n",
    " 'Corporate': 'B2B',\n",
    " 'Consumer': 'Retail',\n",
    " 'Home Office': 'B2B'\n",
    " }"
   ]
  },
  {
   "cell_type": "code",
   "execution_count": null,
   "metadata": {},
   "outputs": [
    {
     "ename": "KeyError",
     "evalue": "'Segments'",
     "output_type": "error",
     "traceback": [
      "\u001b[0;31m---------------------------------------------------------------------------\u001b[0m",
      "\u001b[0;31mKeyError\u001b[0m                                  Traceback (most recent call last)",
      "\u001b[0;32m/opt/homebrew/Caskroom/miniconda/base/envs/nf_base/lib/python3.9/site-packages/pandas/core/indexes/base.py\u001b[0m in \u001b[0;36mget_loc\u001b[0;34m(self, key, method, tolerance)\u001b[0m\n\u001b[1;32m   3360\u001b[0m             \u001b[0;32mtry\u001b[0m\u001b[0;34m:\u001b[0m\u001b[0;34m\u001b[0m\u001b[0;34m\u001b[0m\u001b[0m\n\u001b[0;32m-> 3361\u001b[0;31m                 \u001b[0;32mreturn\u001b[0m \u001b[0mself\u001b[0m\u001b[0;34m.\u001b[0m\u001b[0m_engine\u001b[0m\u001b[0;34m.\u001b[0m\u001b[0mget_loc\u001b[0m\u001b[0;34m(\u001b[0m\u001b[0mcasted_key\u001b[0m\u001b[0;34m)\u001b[0m\u001b[0;34m\u001b[0m\u001b[0;34m\u001b[0m\u001b[0m\n\u001b[0m\u001b[1;32m   3362\u001b[0m             \u001b[0;32mexcept\u001b[0m \u001b[0mKeyError\u001b[0m \u001b[0;32mas\u001b[0m \u001b[0merr\u001b[0m\u001b[0;34m:\u001b[0m\u001b[0;34m\u001b[0m\u001b[0;34m\u001b[0m\u001b[0m\n",
      "\u001b[0;32m/opt/homebrew/Caskroom/miniconda/base/envs/nf_base/lib/python3.9/site-packages/pandas/_libs/index.pyx\u001b[0m in \u001b[0;36mpandas._libs.index.IndexEngine.get_loc\u001b[0;34m()\u001b[0m\n",
      "\u001b[0;32m/opt/homebrew/Caskroom/miniconda/base/envs/nf_base/lib/python3.9/site-packages/pandas/_libs/index.pyx\u001b[0m in \u001b[0;36mpandas._libs.index.IndexEngine.get_loc\u001b[0;34m()\u001b[0m\n",
      "\u001b[0;32mpandas/_libs/hashtable_class_helper.pxi\u001b[0m in \u001b[0;36mpandas._libs.hashtable.PyObjectHashTable.get_item\u001b[0;34m()\u001b[0m\n",
      "\u001b[0;32mpandas/_libs/hashtable_class_helper.pxi\u001b[0m in \u001b[0;36mpandas._libs.hashtable.PyObjectHashTable.get_item\u001b[0;34m()\u001b[0m\n",
      "\u001b[0;31mKeyError\u001b[0m: 'Segments'",
      "\nThe above exception was the direct cause of the following exception:\n",
      "\u001b[0;31mKeyError\u001b[0m                                  Traceback (most recent call last)",
      "\u001b[0;32m/var/folders/fw/lh9tdp112z91hhrr7t4_bmsm0000gn/T/ipykernel_45407/4009603569.py\u001b[0m in \u001b[0;36m<module>\u001b[0;34m\u001b[0m\n\u001b[1;32m      1\u001b[0m \u001b[0;31m# Creates a new column State_Code by mapping the keys to the values in the states_to_codes dictionary.\u001b[0m\u001b[0;34m\u001b[0m\u001b[0;34m\u001b[0m\u001b[0m\n\u001b[0;32m----> 2\u001b[0;31m \u001b[0morders\u001b[0m\u001b[0;34m[\u001b[0m\u001b[0;34m'Customer Group'\u001b[0m\u001b[0;34m]\u001b[0m \u001b[0;34m=\u001b[0m \u001b[0morders\u001b[0m\u001b[0;34m[\u001b[0m\u001b[0;34m'Segments'\u001b[0m\u001b[0;34m]\u001b[0m\u001b[0;34m.\u001b[0m\u001b[0mmap\u001b[0m\u001b[0;34m(\u001b[0m\u001b[0msegments_to_customer_groups\u001b[0m\u001b[0;34m)\u001b[0m\u001b[0;34m\u001b[0m\u001b[0;34m\u001b[0m\u001b[0m\n\u001b[0m",
      "\u001b[0;32m/opt/homebrew/Caskroom/miniconda/base/envs/nf_base/lib/python3.9/site-packages/pandas/core/frame.py\u001b[0m in \u001b[0;36m__getitem__\u001b[0;34m(self, key)\u001b[0m\n\u001b[1;32m   3456\u001b[0m             \u001b[0;32mif\u001b[0m \u001b[0mself\u001b[0m\u001b[0;34m.\u001b[0m\u001b[0mcolumns\u001b[0m\u001b[0;34m.\u001b[0m\u001b[0mnlevels\u001b[0m \u001b[0;34m>\u001b[0m \u001b[0;36m1\u001b[0m\u001b[0;34m:\u001b[0m\u001b[0;34m\u001b[0m\u001b[0;34m\u001b[0m\u001b[0m\n\u001b[1;32m   3457\u001b[0m                 \u001b[0;32mreturn\u001b[0m \u001b[0mself\u001b[0m\u001b[0;34m.\u001b[0m\u001b[0m_getitem_multilevel\u001b[0m\u001b[0;34m(\u001b[0m\u001b[0mkey\u001b[0m\u001b[0;34m)\u001b[0m\u001b[0;34m\u001b[0m\u001b[0;34m\u001b[0m\u001b[0m\n\u001b[0;32m-> 3458\u001b[0;31m             \u001b[0mindexer\u001b[0m \u001b[0;34m=\u001b[0m \u001b[0mself\u001b[0m\u001b[0;34m.\u001b[0m\u001b[0mcolumns\u001b[0m\u001b[0;34m.\u001b[0m\u001b[0mget_loc\u001b[0m\u001b[0;34m(\u001b[0m\u001b[0mkey\u001b[0m\u001b[0;34m)\u001b[0m\u001b[0;34m\u001b[0m\u001b[0;34m\u001b[0m\u001b[0m\n\u001b[0m\u001b[1;32m   3459\u001b[0m             \u001b[0;32mif\u001b[0m \u001b[0mis_integer\u001b[0m\u001b[0;34m(\u001b[0m\u001b[0mindexer\u001b[0m\u001b[0;34m)\u001b[0m\u001b[0;34m:\u001b[0m\u001b[0;34m\u001b[0m\u001b[0;34m\u001b[0m\u001b[0m\n\u001b[1;32m   3460\u001b[0m                 \u001b[0mindexer\u001b[0m \u001b[0;34m=\u001b[0m \u001b[0;34m[\u001b[0m\u001b[0mindexer\u001b[0m\u001b[0;34m]\u001b[0m\u001b[0;34m\u001b[0m\u001b[0;34m\u001b[0m\u001b[0m\n",
      "\u001b[0;32m/opt/homebrew/Caskroom/miniconda/base/envs/nf_base/lib/python3.9/site-packages/pandas/core/indexes/base.py\u001b[0m in \u001b[0;36mget_loc\u001b[0;34m(self, key, method, tolerance)\u001b[0m\n\u001b[1;32m   3361\u001b[0m                 \u001b[0;32mreturn\u001b[0m \u001b[0mself\u001b[0m\u001b[0;34m.\u001b[0m\u001b[0m_engine\u001b[0m\u001b[0;34m.\u001b[0m\u001b[0mget_loc\u001b[0m\u001b[0;34m(\u001b[0m\u001b[0mcasted_key\u001b[0m\u001b[0;34m)\u001b[0m\u001b[0;34m\u001b[0m\u001b[0;34m\u001b[0m\u001b[0m\n\u001b[1;32m   3362\u001b[0m             \u001b[0;32mexcept\u001b[0m \u001b[0mKeyError\u001b[0m \u001b[0;32mas\u001b[0m \u001b[0merr\u001b[0m\u001b[0;34m:\u001b[0m\u001b[0;34m\u001b[0m\u001b[0;34m\u001b[0m\u001b[0m\n\u001b[0;32m-> 3363\u001b[0;31m                 \u001b[0;32mraise\u001b[0m \u001b[0mKeyError\u001b[0m\u001b[0;34m(\u001b[0m\u001b[0mkey\u001b[0m\u001b[0;34m)\u001b[0m \u001b[0;32mfrom\u001b[0m \u001b[0merr\u001b[0m\u001b[0;34m\u001b[0m\u001b[0;34m\u001b[0m\u001b[0m\n\u001b[0m\u001b[1;32m   3364\u001b[0m \u001b[0;34m\u001b[0m\u001b[0m\n\u001b[1;32m   3365\u001b[0m         \u001b[0;32mif\u001b[0m \u001b[0mis_scalar\u001b[0m\u001b[0;34m(\u001b[0m\u001b[0mkey\u001b[0m\u001b[0;34m)\u001b[0m \u001b[0;32mand\u001b[0m \u001b[0misna\u001b[0m\u001b[0;34m(\u001b[0m\u001b[0mkey\u001b[0m\u001b[0;34m)\u001b[0m \u001b[0;32mand\u001b[0m \u001b[0;32mnot\u001b[0m \u001b[0mself\u001b[0m\u001b[0;34m.\u001b[0m\u001b[0mhasnans\u001b[0m\u001b[0;34m:\u001b[0m\u001b[0;34m\u001b[0m\u001b[0;34m\u001b[0m\u001b[0m\n",
      "\u001b[0;31mKeyError\u001b[0m: 'Segments'"
     ]
    }
   ],
   "source": [
    "# Creates a new column State_Code by mapping the keys to the values in the states_to_codes dictionary.\n",
    "orders['Customer Group'] = orders['Segment'].map(segments_to_customer_groups)\n"
   ]
  },
  {
   "cell_type": "code",
   "execution_count": null,
   "metadata": {},
   "outputs": [],
   "source": [
    "# Check if it worked\n",
    "orders['Customer Group']"
   ]
  },
  {
   "cell_type": "markdown",
   "metadata": {},
   "source": [
    "## Export to Excel"
   ]
  },
  {
   "cell_type": "code",
   "execution_count": null,
   "metadata": {},
   "outputs": [],
   "source": [
    "# Creating an empty Excel file\n",
    "from openpyxl import Workbook\n",
    "wb = Workbook()\n",
    "wb.save('data/demo_output_file.xlsx')\n",
    "\n",
    "# Saving some of our dataframes into it as separate sheets\n",
    "with pd.ExcelWriter(\"data/demo_output_file.xlsx\", mode=\"a\", engine=\"openpyxl\") as writer:\n",
    "    pivot_category_sales.to_excel(writer, sheet_name=\"Sales by Category\")\n",
    "    sales_by_date.to_excel(writer, sheet_name=\"Sales by Date\")"
   ]
  }
 ],
 "metadata": {
  "interpreter": {
   "hash": "b89b5cfaba6639976dc87ff2fec6d58faec662063367e2c229c520fe71072417"
  },
  "kernelspec": {
   "display_name": "Python 3.10.4 64-bit",
   "language": "python",
   "name": "python3"
  },
  "language_info": {
   "codemirror_mode": {
    "name": "ipython",
    "version": 3
   },
   "file_extension": ".py",
   "mimetype": "text/x-python",
   "name": "python",
   "nbconvert_exporter": "python",
   "pygments_lexer": "ipython3",
   "version": "3.8.5"
  },
  "orig_nbformat": 4
 },
 "nbformat": 4,
 "nbformat_minor": 2
}
