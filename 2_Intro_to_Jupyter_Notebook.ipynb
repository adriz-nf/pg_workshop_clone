{
 "cells": [
  {
   "cell_type": "markdown",
   "metadata": {},
   "source": [
    "# Intro to Jupyter Notebooks in Binder\n",
    "\n",
    "To get started we first introduce your working environment.  \n",
    "As already mentioned before we will work with Jupyter notebooks (.ipynb files), which \" ... are documents that combine live runnable code with narrative text (Markdown), equations (LaTeX), images, interactive visualizations and other rich output\"([Source](https://jupyterlab.readthedocs.io/en/stable/user/notebook.html)). Notebooks let you easily combine Markdown text and Python code and let you see the results of your code directly.  \n",
    "\n",
    "We will open these Jupyter Notebooks within Binder, so that you don't need to install additional stuff to get ready. In Binder you can open those notebooks in an executable environment and execute the code we have prepared for you.  \n",
    "\n",
    "In case you have a Google account, open the file with [Google Colab](https://colab.research.google.com), which \"...  allows anybody to write and execute arbitrary python code.\" [(Source)](https://research.google.com/colaboratory/faq.html)\n",
    "\n",
    "[![Open In Colab](https://colab.research.google.com/assets/colab-badge.svg)](https://colab.research.google.com/github/neuefische/pg_workshop/blob/main/2_Intro_to_Jupyter_Notebook.ipynb)\n",
    "\n",
    "\n",
    "## Objectives\n",
    "\n",
    "At the end of this notebook you will be able to:\n",
    "\n",
    "- run cells of jupyter notebooks and change them to markdown or code cell\n",
    "- adding and deleting cells in jupyter notebooks\n",
    "- differentiate between Command and Edit Mode and to change between them\n",
    "- receiving help from docstrings "
   ]
  },
  {
   "cell_type": "markdown",
   "metadata": {},
   "source": [
    "\n",
    "## Running Cells\n",
    "\n",
    "**Welcome to programming!**\n",
    "The first thing to know with this is that each cell block [of code] can be run be pressing **shift+enter**. Try running the below code block:"
   ]
  },
  {
   "cell_type": "code",
   "execution_count": 1,
   "metadata": {},
   "outputs": [
    {
     "name": "stdout",
     "output_type": "stream",
     "text": [
      "This is code being run.\n"
     ]
    }
   ],
   "source": [
    "print('This is code being run.')"
   ]
  },
  {
   "cell_type": "markdown",
   "metadata": {},
   "source": [
    "## Cell Types\n",
    "\n",
    "You might have started to notice that the code blocks have little notes that say **In [ ]:** before you run them, and then are filled with a number after you run them. This is important, as it tells you what order cell blocks were run. (Which can sometimes affect how a program runs.)\n",
    "\n",
    "You may also notice that other cell blocks, such as this one, do not have the **In [ ]:** label as with the code blocks. This is because this cell block is formatted as **Markdown** (rather then code). The details of Markdown are not important here but just know you can use markdown cell blocks to display text. They are really useful for embedding notes and explanations in your Jupyter Notebook. You can see (and change) what type of cell is by clicking the dropdown menu at the top.\n",
    "\n",
    "![](images/jupyter_cell_type.png)\n",
    "\n",
    "\n",
    "Note: Jupyter Notebooks can also use Markdown to display images. So don't get confused when we embed screen shot of Jupyter Notebooks in this Jupyter Notebook!\n",
    "\n",
    "Double clicking on a block of text will show you the Markdown code used to generate it. The idea is similar to HTML code used to render webpages in your browser. Turn the code back into nicely formatted output by pressing **shift+enter** "
   ]
  },
  {
   "cell_type": "markdown",
   "metadata": {},
   "source": [
    "## Command Versus Edit Mode\n",
    "\n",
    "We distinguish between two modes in jupyter notebooks, one is the edit mode where you can write code or notes, the other is the command mode where you can delete or copy cells.\n",
    "\n",
    "To switch from edit mode to command mode, you can press **esc**, (you cannot write in the cell now) and press **Enter** to enter edit mode again.\n",
    "\n",
    "\n",
    "### Edit Mode\n",
    "Edit mode is the standard mode for editing cells, whether it's writing code or notes.\n",
    "To enter edit mode from command mode simply hit enter, or double click on a cell.\n",
    "\n",
    "### Command Mode\n",
    "In command mode, you can delete cells, add cells, copy cells, paste cells, change cell types, and more.  \n",
    "- Add a cell below a cell (in command mode) by clicking 'b'\n",
    "- Add a cell above a cell (in command mode) by clicking 'a'\n",
    "- Delete a cell by clicking 'dd'\n",
    "\n",
    "You can also do these tasks in a more cumbersome (and time consuming) manner by using the various headers in the menu bar at top.\n",
    "\n",
    "\n",
    "![](images/jupyter_commandS.png)\n"
   ]
  },
  {
   "cell_type": "markdown",
   "metadata": {},
   "source": [
    "\n",
    "## Call Docstrings\n",
    "\n",
    "Docstring = Python documentation string; used in class, module, function, or method definition\n",
    "\n",
    "You can access the docstring by writing **?** after the method and executing the cell:\n",
    "\n",
    "<img src=\"images/jupyter_docstring_2.png\" width=\"800\">\n",
    "\n",
    "Or you use **shift + tab** to get help automatically without executing the cell.\n",
    "\n",
    "<img src=\"images/jupyter_docstring.png\" width=\"800\">\n",
    "\n",
    "Try it out!"
   ]
  },
  {
   "cell_type": "markdown",
   "metadata": {},
   "source": [
    "## Stop Execution\n",
    "\n",
    "Long running python processes can be interrupted. Run the following cell and select **Kernel -> Interrupt kernel** to stop execution.\n",
    "Try it out:"
   ]
  },
  {
   "cell_type": "code",
   "execution_count": null,
   "metadata": {},
   "outputs": [],
   "source": [
    "import time\n",
    "print(\"Sleeping\")\n",
    "time.sleep(30) # sleep for a while; interrupt me!\n",
    "print(\"Done Sleeping\")"
   ]
  },
  {
   "cell_type": "markdown",
   "metadata": {},
   "source": [
    "Sometimes Notebooks can get a bit chaotic. You might encounter that in your first project. In order for you and others to go through your notebook smoothly, it is important that the cells are executed in the correct order (from top to bottom). To check if this is possible, we recommend that you run **Kernel --> Restart Kernel and Run All Cells...** every now and then."
   ]
  },
  {
   "cell_type": "markdown",
   "metadata": {},
   "source": [
    "## Check your understanding! \n",
    "\n",
    "\n",
    "Try to do all these tasks with shortcuts! Of course, feel free to test other shortcuts to get more familiar with them too. \n",
    "\n",
    "1. Create a new cell below.\n",
    "2. Change the celltype to \"markdown\"\n",
    "3. Enter the cell and write \"print('Gratulation! You are now familiar with jupyter lab!')\" \n",
    "4. Exit the edit mode and change celltype to \"Code\"\n",
    "5. Copy the cell and paste it below.\n",
    "6. Delete the last cell again.\n",
    "7. Run the cell --> you're done :) \n",
    "\n"
   ]
  }
 ],
 "metadata": {
  "kernelspec": {
   "display_name": "Python 3",
   "language": "python",
   "name": "python3"
  },
  "language_info": {
   "codemirror_mode": {
    "name": "ipython",
    "version": 3
   },
   "file_extension": ".py",
   "mimetype": "text/x-python",
   "name": "python",
   "nbconvert_exporter": "python",
   "pygments_lexer": "ipython3",
   "version": "3.8.5"
  }
 },
 "nbformat": 4,
 "nbformat_minor": 4
}
