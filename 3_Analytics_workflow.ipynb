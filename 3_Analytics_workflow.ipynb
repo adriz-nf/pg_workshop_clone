{
 "cells": [
  {
   "cell_type": "markdown",
   "metadata": {},
   "source": [
    "In case you have a Google account, open the file with [Google Colab](https://colab.research.google.com), which \"...  allows anybody to write and execute arbitrary python code.\" [(Source)](https://research.google.com/colaboratory/faq.html)\n",
    "\n",
    "[![Open In Colab](https://colab.research.google.com/assets/colab-badge.svg)](https://colab.research.google.com/github/neuefische/pg_workshop/blob/main/3_Analytics_workflow.ipynb)\n"
   ]
  },
  {
   "cell_type": "markdown",
   "metadata": {},
   "source": [
    "# Performing structured Data Analysis with Python using Jupyter Notebooks\n",
    "\n",
    "Ever opened up an old Excel file and wondered - what does this formula do exactly? Where is the beginning of the workbook, and where is the final output?\n",
    "\n",
    "One big advantage of using Jupyter Notebooks is to make analytics and data workflows visible and comprehensible for your colleagues and even your future self: it is easy to see and understand how data is transformed, step by step.\n",
    "\n",
    "In the following, you'll find a short, structured and documented analysis, which should highlight the advantages of visibility and comprehensibility for you.\n",
    "\n",
    "For the analysis, we are using the Superstore data again, and following the introduced 6 Analytics-Workflow steps.  \n",
    "\n",
    "<img src=\"images/workflow.png\" width=\"800\">\n",
    "\n",
    "## Objectives\n",
    "\n",
    "At the end of this notebook you will have a better understanding of:\n",
    "\n",
    "- using Jupyter Notebooks for sharing code and insights\n",
    "- performing a basic data analysis using Python in Jupyter Notebooks\n",
    "- the usefulness of Jupyter Notebooks \n",
    "\n",
    "## Task\n",
    "\n",
    "Carefully read through the documentation, lines of code and execute the code blocks below."
   ]
  },
  {
   "cell_type": "markdown",
   "metadata": {},
   "source": [
    "# 1 Ask questions"
   ]
  },
  {
   "cell_type": "markdown",
   "metadata": {},
   "source": [
    "I start my Data Analysis with asking question(s) relevant for my business.  \n",
    "\n",
    "The store I am working for sells products of different categories. It is necessary to have a good overview of the performance of the different categories in order to decide, if changes need to be made regarding the product stock for the single categories.   \n",
    "My task is to answer the following question: \n",
    "  \n",
    "**Which is the least successful product category?**\n"
   ]
  },
  {
   "cell_type": "markdown",
   "metadata": {},
   "source": [
    "\n",
    "**Take Away**: Make sure you know **why** you are doing what you are doing!  \n",
    "Have clear question(s) you want to answer in mind or the purpose of the output you want to generate.  \n",
    "Not doing so can easily lead to you wasting your time on unnecessary tasks or getting lost.  \n"
   ]
  },
  {
   "cell_type": "markdown",
   "metadata": {},
   "source": [
    "# 2 Load data\n",
    "Having my question in mind, it is now time to start my analysis.  \n",
    "The first thing I do is to load the data I want to analyze. \n",
    "\n",
    "**Take Away**: In Python, there is a specific Python library called *Pandas* which is aimed at working with dataframes (*Reminder*: A dataframe is a data structure that organizes data into 2-dimensional table of rows and columns).  \n",
    "Pandas comes with functions which are able to import the data into a Dataframe format. Thus, as first step, I import the Pandas library and read in my data file."
   ]
  },
  {
   "cell_type": "code",
   "execution_count": null,
   "metadata": {},
   "outputs": [],
   "source": [
    "# Import Python packages needed for Data Exploration\n",
    "import pandas as pd"
   ]
  },
  {
   "cell_type": "code",
   "execution_count": null,
   "metadata": {},
   "outputs": [],
   "source": [
    "# Floats (decimal numbers) should be displayed rounded with 2 decimal places\n",
    "pd.options.display.float_format = \"{:,.2f}\".format"
   ]
  },
  {
   "cell_type": "code",
   "execution_count": null,
   "metadata": {},
   "outputs": [],
   "source": [
    "# Import data to a DatFrame format\n",
    "url = \"https://raw.githubusercontent.com/neuefische/pg_workshop/main/data/orders_data.csv\"\n",
    "orders = pd.read_csv(url)"
   ]
  },
  {
   "cell_type": "markdown",
   "metadata": {},
   "source": [
    "My data is now stored in a variable, called 'orders'.  \n",
    "I can use different attributes and methods on the DataFrame object.\n",
    "\n"
   ]
  },
  {
   "cell_type": "markdown",
   "metadata": {},
   "source": [
    "# 3 Understand the data\n",
    "After I have loaded my dataset and stored it in the variable 'orders', I will focus on understanding my dataframe by answering four questions."
   ]
  },
  {
   "cell_type": "markdown",
   "metadata": {},
   "source": [
    "## How does my dataframe look like?"
   ]
  },
  {
   "cell_type": "code",
   "execution_count": null,
   "metadata": {},
   "outputs": [],
   "source": [
    "# '.head()' shows the first x rows of the dataframe \n",
    "orders.head(3)"
   ]
  },
  {
   "cell_type": "markdown",
   "metadata": {},
   "source": [
    "## How many rows and columns does my dataframe consist of?"
   ]
  },
  {
   "cell_type": "code",
   "execution_count": null,
   "metadata": {},
   "outputs": [],
   "source": [
    "# '.shape' shows information about number of rows and columns\n",
    "orders.shape"
   ]
  },
  {
   "cell_type": "markdown",
   "metadata": {},
   "source": [
    "#### Result\n",
    "The dataframe consists of 17 columns and 9994 rows."
   ]
  },
  {
   "cell_type": "markdown",
   "metadata": {},
   "source": [
    "## What columns does my dataframe consist of?"
   ]
  },
  {
   "cell_type": "code",
   "execution_count": null,
   "metadata": {},
   "outputs": [],
   "source": [
    "# Check which columns are included in dataframe\n",
    "orders.columns"
   ]
  },
  {
   "cell_type": "markdown",
   "metadata": {},
   "source": [
    "## What is the level of aggregation of your data?\n",
    "### What does an order look like? How are products and orders connected?"
   ]
  },
  {
   "cell_type": "code",
   "execution_count": null,
   "metadata": {},
   "outputs": [],
   "source": [
    "# Count number of unique orders and products: \n",
    "# Get number of unique values by using '.nunique' on order_id and product_id columns\n",
    "print(orders['Order_ID'].nunique())\n",
    "print(orders['Product_ID'].nunique())"
   ]
  },
  {
   "cell_type": "markdown",
   "metadata": {},
   "source": [
    "#### Result\n",
    "- An order is identified by its order id, the dataset contains 5009 unique orders\n",
    "- The dataset contains 1862 unique products\n",
    "- If an order contains multiple distinct products, the order is split into multiple rows with the number of rows being equal to the total number of unique products in the order\n",
    "- If a product is ordered more than once in one order it is aggregated via the quantity column"
   ]
  },
  {
   "cell_type": "markdown",
   "metadata": {},
   "source": [
    "# 4 Prepare Data"
   ]
  },
  {
   "cell_type": "markdown",
   "metadata": {},
   "source": [
    "I generally assume the data is complete (has no missing values) and correct (has no obvious logical problems that defy my understanding of the content).  \n",
    "**Remark**: Usually, I would test these assumptions and start cleaning my data if the assumptions are not met.  \n",
    "To keep things less complex in the beginning, I work with an already cleaned and well-prepared dataset, so that I can start answering my question by exploring the relevant parts of my dataset."
   ]
  },
  {
   "cell_type": "markdown",
   "metadata": {},
   "source": [
    "# 5 Answer questions\n",
    "**Which is the least successful product category?**  \n",
    "In order to answer this question I will now move on to deepen my understanding of the relevant columns.  \n",
    "I will look deeper into the 'category'-column as well as Sales and Profit as indicators of success."
   ]
  },
  {
   "cell_type": "markdown",
   "metadata": {},
   "source": [
    "## Which categories do exist?"
   ]
  },
  {
   "cell_type": "code",
   "execution_count": null,
   "metadata": {},
   "outputs": [],
   "source": [
    "# use '.unique' on the Category column to get an overview of unique categories\n",
    "orders['Category'].unique()"
   ]
  },
  {
   "cell_type": "markdown",
   "metadata": {},
   "source": [
    "#### Result\n",
    "- The dataset contains three different categories: Furniture, Office Supplies and Technology \n",
    "- Each product belongs to one of these three categories."
   ]
  },
  {
   "cell_type": "markdown",
   "metadata": {},
   "source": [
    "## What are the summary statistics of Sales and Profit?"
   ]
  },
  {
   "cell_type": "markdown",
   "metadata": {},
   "source": [
    "In order to get a feeling for Sales and Profit of our store in general I will look at the descriptive statistics of these two columns."
   ]
  },
  {
   "cell_type": "code",
   "execution_count": null,
   "metadata": {},
   "outputs": [],
   "source": [
    "# the function '.describe' gives a good overview of the descriptive stats of the numeric columns\n",
    "orders[['Sales', 'Profit']].describe()"
   ]
  },
  {
   "cell_type": "markdown",
   "metadata": {},
   "source": [
    "## Which is the least successful product category?"
   ]
  },
  {
   "cell_type": "markdown",
   "metadata": {},
   "source": [
    "In order to evaluate the success of each category, I will look at the Sum of Sales as well as Sum of Profit per category."
   ]
  },
  {
   "cell_type": "markdown",
   "metadata": {},
   "source": [
    "### a) ... with success is defined as sum of sales"
   ]
  },
  {
   "cell_type": "code",
   "execution_count": null,
   "metadata": {},
   "outputs": [],
   "source": [
    "# Use .groupby(['Category']) in order to group dataframe by the three different categories \n",
    "# Calculate the Sum of Sales for each category\n",
    "orders.groupby(['Category'])['Sales'].sum().sort_values(ascending=False)"
   ]
  },
  {
   "cell_type": "markdown",
   "metadata": {},
   "source": [
    "#### Result\n",
    "When looking at sum of sales per category, Office Supplies performs worst."
   ]
  },
  {
   "cell_type": "markdown",
   "metadata": {},
   "source": [
    "### b) ... with success defined as sum of profit\n",
    "Since looking only at Sales does not take the expenses into account, I decided to rather use Profit as indicator of success. "
   ]
  },
  {
   "cell_type": "code",
   "execution_count": null,
   "metadata": {},
   "outputs": [],
   "source": [
    "# Use .groupby(['Category']) in order to group dataframe by the three different categories \n",
    "# Calculate the Sum of Profit for each category\n",
    "orders.groupby(['Category'])['Profit'].sum().sort_values(ascending=False)"
   ]
  },
  {
   "cell_type": "markdown",
   "metadata": {},
   "source": [
    "#### Result\n",
    "When looking at sum of profit per category, Furniture performs worst."
   ]
  },
  {
   "cell_type": "markdown",
   "metadata": {},
   "source": [
    "With this result, I can answer my question from the beginning.\n",
    "Can't I?"
   ]
  },
  {
   "cell_type": "markdown",
   "metadata": {},
   "source": [
    "# 6 Validate"
   ]
  },
  {
   "cell_type": "markdown",
   "metadata": {},
   "source": [
    "Furniture performs the worst when looking at Sum of Profit for each category.  \n",
    "However, when having a closer look at my data I realize, that I have sub-categories within each category, which might differ a lot in their Profit. Thus, there might be sub-categories within Furniture which show a good performance."
   ]
  },
  {
   "cell_type": "markdown",
   "metadata": {},
   "source": [
    "So my plan is to:\n",
    "\n",
    "- Go back to Step 5 and look at profit per sub-category  \n",
    "- Repeat Step 6 and question insights: Is it valid to evaluate a whole sub-category as not successful?  \n",
    "--> Within these sub-categories, there might be products which show a good performance.\n",
    "- Go back to Step 5 and look at profit per product\n",
    "- Repeat Step 6 and question insights\n",
    "....."
   ]
  },
  {
   "cell_type": "markdown",
   "metadata": {},
   "source": [
    "**Take Aways**: \n",
    "Keep in mind to always question your findings, think about possible additional explanations for your results and iterate through your steps if necessary."
   ]
  }
 ],
 "metadata": {
  "interpreter": {
   "hash": "52746facf0ff27bba74d90023bea822bf28860e85219d052de28537e22041b59"
  },
  "kernelspec": {
   "display_name": "Python 3.8.5 64-bit ('nf_base': conda)",
   "name": "python3"
  },
  "language_info": {
   "codemirror_mode": {
    "name": "ipython",
    "version": 3
   },
   "file_extension": ".py",
   "mimetype": "text/x-python",
   "name": "python",
   "nbconvert_exporter": "python",
   "pygments_lexer": "ipython3",
   "version": "3.8.5"
  },
  "orig_nbformat": 4
 },
 "nbformat": 4,
 "nbformat_minor": 2
}
